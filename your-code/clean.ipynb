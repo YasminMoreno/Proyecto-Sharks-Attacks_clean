{
 "cells": [
  {
   "cell_type": "markdown",
   "id": "23dbc5f5",
   "metadata": {},
   "source": [
    "# Proyecto W2: limpieza y disputa de datos"
   ]
  },
  {
   "cell_type": "markdown",
   "id": "c8d204f2",
   "metadata": {},
   "source": [
    "##### En este proyecto tenemos un dataset llamado Shark Attack, en el que tenemos que limpiar los datos y manipularlos con Pandas. Para ello comenzaremos por instalar e importar algunas librerías."
   ]
  },
  {
   "cell_type": "code",
   "execution_count": 3675,
   "id": "2fa2b91e",
   "metadata": {},
   "outputs": [
    {
     "name": "stdout",
     "output_type": "stream",
     "text": [
      "Requirement already satisfied: ipython in /Users/yasmin/opt/anaconda3/lib/python3.9/site-packages (7.29.0)\n",
      "Requirement already satisfied: appnope in /Users/yasmin/opt/anaconda3/lib/python3.9/site-packages (from ipython) (0.1.2)\n",
      "Requirement already satisfied: jedi>=0.16 in /Users/yasmin/opt/anaconda3/lib/python3.9/site-packages (from ipython) (0.18.0)\n",
      "Requirement already satisfied: pexpect>4.3 in /Users/yasmin/opt/anaconda3/lib/python3.9/site-packages (from ipython) (4.8.0)\n",
      "Requirement already satisfied: pygments in /Users/yasmin/opt/anaconda3/lib/python3.9/site-packages (from ipython) (2.10.0)\n",
      "Requirement already satisfied: matplotlib-inline in /Users/yasmin/opt/anaconda3/lib/python3.9/site-packages (from ipython) (0.1.2)\n",
      "Requirement already satisfied: decorator in /Users/yasmin/opt/anaconda3/lib/python3.9/site-packages (from ipython) (5.1.0)\n",
      "Requirement already satisfied: setuptools>=18.5 in /Users/yasmin/opt/anaconda3/lib/python3.9/site-packages (from ipython) (58.0.4)\n",
      "Requirement already satisfied: traitlets>=4.2 in /Users/yasmin/opt/anaconda3/lib/python3.9/site-packages (from ipython) (5.1.0)\n",
      "Requirement already satisfied: pickleshare in /Users/yasmin/opt/anaconda3/lib/python3.9/site-packages (from ipython) (0.7.5)\n",
      "Requirement already satisfied: prompt-toolkit!=3.0.0,!=3.0.1,<3.1.0,>=2.0.0 in /Users/yasmin/opt/anaconda3/lib/python3.9/site-packages (from ipython) (3.0.20)\n",
      "Requirement already satisfied: backcall in /Users/yasmin/opt/anaconda3/lib/python3.9/site-packages (from ipython) (0.2.0)\n",
      "Requirement already satisfied: parso<0.9.0,>=0.8.0 in /Users/yasmin/opt/anaconda3/lib/python3.9/site-packages (from jedi>=0.16->ipython) (0.8.2)\n",
      "Requirement already satisfied: ptyprocess>=0.5 in /Users/yasmin/opt/anaconda3/lib/python3.9/site-packages (from pexpect>4.3->ipython) (0.7.0)\n",
      "Requirement already satisfied: wcwidth in /Users/yasmin/opt/anaconda3/lib/python3.9/site-packages (from prompt-toolkit!=3.0.0,!=3.0.1,<3.1.0,>=2.0.0->ipython) (0.2.5)\n",
      "Note: you may need to restart the kernel to use updated packages.\n",
      "Requirement already satisfied: seaborn in /Users/yasmin/opt/anaconda3/lib/python3.9/site-packages (0.11.2)\n",
      "Requirement already satisfied: pandas>=0.23 in /Users/yasmin/opt/anaconda3/lib/python3.9/site-packages (from seaborn) (1.3.4)\n",
      "Requirement already satisfied: matplotlib>=2.2 in /Users/yasmin/opt/anaconda3/lib/python3.9/site-packages (from seaborn) (3.4.3)\n",
      "Requirement already satisfied: numpy>=1.15 in /Users/yasmin/opt/anaconda3/lib/python3.9/site-packages (from seaborn) (1.20.3)\n",
      "Requirement already satisfied: scipy>=1.0 in /Users/yasmin/opt/anaconda3/lib/python3.9/site-packages (from seaborn) (1.7.1)\n",
      "Requirement already satisfied: pillow>=6.2.0 in /Users/yasmin/opt/anaconda3/lib/python3.9/site-packages (from matplotlib>=2.2->seaborn) (8.4.0)\n",
      "Requirement already satisfied: cycler>=0.10 in /Users/yasmin/opt/anaconda3/lib/python3.9/site-packages (from matplotlib>=2.2->seaborn) (0.10.0)\n",
      "Requirement already satisfied: pyparsing>=2.2.1 in /Users/yasmin/opt/anaconda3/lib/python3.9/site-packages (from matplotlib>=2.2->seaborn) (3.0.4)\n",
      "Requirement already satisfied: python-dateutil>=2.7 in /Users/yasmin/opt/anaconda3/lib/python3.9/site-packages (from matplotlib>=2.2->seaborn) (2.8.2)\n",
      "Requirement already satisfied: kiwisolver>=1.0.1 in /Users/yasmin/opt/anaconda3/lib/python3.9/site-packages (from matplotlib>=2.2->seaborn) (1.3.1)\n",
      "Requirement already satisfied: six in /Users/yasmin/opt/anaconda3/lib/python3.9/site-packages (from cycler>=0.10->matplotlib>=2.2->seaborn) (1.16.0)\n",
      "Requirement already satisfied: pytz>=2017.3 in /Users/yasmin/opt/anaconda3/lib/python3.9/site-packages (from pandas>=0.23->seaborn) (2021.3)\n",
      "Note: you may need to restart the kernel to use updated packages.\n"
     ]
    }
   ],
   "source": [
    "%pip install ipython\n",
    "%pip install seaborn"
   ]
  },
  {
   "cell_type": "code",
   "execution_count": 3676,
   "id": "d1b4eee4",
   "metadata": {},
   "outputs": [],
   "source": [
    "import pandas as pd\n",
    "import numpy as np\n",
    "\n",
    "import pylab as plt\n",
    "import seaborn as sns\n",
    "\n",
    "%matplotlib inline\n",
    "\n",
    "import warnings\n",
    "warnings.filterwarnings('ignore')"
   ]
  },
  {
   "cell_type": "code",
   "execution_count": 3677,
   "id": "4f330e56",
   "metadata": {},
   "outputs": [],
   "source": [
    "#Cargamos data desde attacks.csv latin1 = ISO-8859-1\n",
    "\n",
    "data = pd.read_csv('../data/attacks.csv', encoding = 'ISO-8859-1')"
   ]
  },
  {
   "cell_type": "code",
   "execution_count": 3678,
   "id": "bace3879",
   "metadata": {},
   "outputs": [],
   "source": [
    "#Guardamos una copia del original\n",
    "\n",
    "data_orig = data.copy()"
   ]
  },
  {
   "cell_type": "code",
   "execution_count": 3679,
   "id": "2423a762",
   "metadata": {},
   "outputs": [
    {
     "data": {
      "text/html": [
       "<div>\n",
       "<style scoped>\n",
       "    .dataframe tbody tr th:only-of-type {\n",
       "        vertical-align: middle;\n",
       "    }\n",
       "\n",
       "    .dataframe tbody tr th {\n",
       "        vertical-align: top;\n",
       "    }\n",
       "\n",
       "    .dataframe thead th {\n",
       "        text-align: right;\n",
       "    }\n",
       "</style>\n",
       "<table border=\"1\" class=\"dataframe\">\n",
       "  <thead>\n",
       "    <tr style=\"text-align: right;\">\n",
       "      <th></th>\n",
       "      <th>Case Number</th>\n",
       "      <th>Date</th>\n",
       "      <th>Year</th>\n",
       "      <th>Type</th>\n",
       "      <th>Country</th>\n",
       "      <th>Area</th>\n",
       "      <th>Location</th>\n",
       "      <th>Activity</th>\n",
       "      <th>Name</th>\n",
       "      <th>Sex</th>\n",
       "      <th>...</th>\n",
       "      <th>Species</th>\n",
       "      <th>Investigator or Source</th>\n",
       "      <th>pdf</th>\n",
       "      <th>href formula</th>\n",
       "      <th>href</th>\n",
       "      <th>Case Number.1</th>\n",
       "      <th>Case Number.2</th>\n",
       "      <th>original order</th>\n",
       "      <th>Unnamed: 22</th>\n",
       "      <th>Unnamed: 23</th>\n",
       "    </tr>\n",
       "  </thead>\n",
       "  <tbody>\n",
       "    <tr>\n",
       "      <th>0</th>\n",
       "      <td>2018.06.25</td>\n",
       "      <td>25-Jun-2018</td>\n",
       "      <td>2018.0</td>\n",
       "      <td>Boating</td>\n",
       "      <td>USA</td>\n",
       "      <td>California</td>\n",
       "      <td>Oceanside, San Diego County</td>\n",
       "      <td>Paddling</td>\n",
       "      <td>Julie Wolfe</td>\n",
       "      <td>F</td>\n",
       "      <td>...</td>\n",
       "      <td>White shark</td>\n",
       "      <td>R. Collier, GSAF</td>\n",
       "      <td>2018.06.25-Wolfe.pdf</td>\n",
       "      <td>http://sharkattackfile.net/spreadsheets/pdf_di...</td>\n",
       "      <td>http://sharkattackfile.net/spreadsheets/pdf_di...</td>\n",
       "      <td>2018.06.25</td>\n",
       "      <td>2018.06.25</td>\n",
       "      <td>6303.0</td>\n",
       "      <td>NaN</td>\n",
       "      <td>NaN</td>\n",
       "    </tr>\n",
       "    <tr>\n",
       "      <th>1</th>\n",
       "      <td>2018.06.18</td>\n",
       "      <td>18-Jun-2018</td>\n",
       "      <td>2018.0</td>\n",
       "      <td>Unprovoked</td>\n",
       "      <td>USA</td>\n",
       "      <td>Georgia</td>\n",
       "      <td>St. Simon Island, Glynn County</td>\n",
       "      <td>Standing</td>\n",
       "      <td>Adyson McNeely</td>\n",
       "      <td>F</td>\n",
       "      <td>...</td>\n",
       "      <td>NaN</td>\n",
       "      <td>K.McMurray, TrackingSharks.com</td>\n",
       "      <td>2018.06.18-McNeely.pdf</td>\n",
       "      <td>http://sharkattackfile.net/spreadsheets/pdf_di...</td>\n",
       "      <td>http://sharkattackfile.net/spreadsheets/pdf_di...</td>\n",
       "      <td>2018.06.18</td>\n",
       "      <td>2018.06.18</td>\n",
       "      <td>6302.0</td>\n",
       "      <td>NaN</td>\n",
       "      <td>NaN</td>\n",
       "    </tr>\n",
       "    <tr>\n",
       "      <th>2</th>\n",
       "      <td>2018.06.09</td>\n",
       "      <td>09-Jun-2018</td>\n",
       "      <td>2018.0</td>\n",
       "      <td>Invalid</td>\n",
       "      <td>USA</td>\n",
       "      <td>Hawaii</td>\n",
       "      <td>Habush, Oahu</td>\n",
       "      <td>Surfing</td>\n",
       "      <td>John Denges</td>\n",
       "      <td>M</td>\n",
       "      <td>...</td>\n",
       "      <td>NaN</td>\n",
       "      <td>K.McMurray, TrackingSharks.com</td>\n",
       "      <td>2018.06.09-Denges.pdf</td>\n",
       "      <td>http://sharkattackfile.net/spreadsheets/pdf_di...</td>\n",
       "      <td>http://sharkattackfile.net/spreadsheets/pdf_di...</td>\n",
       "      <td>2018.06.09</td>\n",
       "      <td>2018.06.09</td>\n",
       "      <td>6301.0</td>\n",
       "      <td>NaN</td>\n",
       "      <td>NaN</td>\n",
       "    </tr>\n",
       "    <tr>\n",
       "      <th>3</th>\n",
       "      <td>2018.06.08</td>\n",
       "      <td>08-Jun-2018</td>\n",
       "      <td>2018.0</td>\n",
       "      <td>Unprovoked</td>\n",
       "      <td>AUSTRALIA</td>\n",
       "      <td>New South Wales</td>\n",
       "      <td>Arrawarra Headland</td>\n",
       "      <td>Surfing</td>\n",
       "      <td>male</td>\n",
       "      <td>M</td>\n",
       "      <td>...</td>\n",
       "      <td>2 m shark</td>\n",
       "      <td>B. Myatt, GSAF</td>\n",
       "      <td>2018.06.08-Arrawarra.pdf</td>\n",
       "      <td>http://sharkattackfile.net/spreadsheets/pdf_di...</td>\n",
       "      <td>http://sharkattackfile.net/spreadsheets/pdf_di...</td>\n",
       "      <td>2018.06.08</td>\n",
       "      <td>2018.06.08</td>\n",
       "      <td>6300.0</td>\n",
       "      <td>NaN</td>\n",
       "      <td>NaN</td>\n",
       "    </tr>\n",
       "    <tr>\n",
       "      <th>4</th>\n",
       "      <td>2018.06.04</td>\n",
       "      <td>04-Jun-2018</td>\n",
       "      <td>2018.0</td>\n",
       "      <td>Provoked</td>\n",
       "      <td>MEXICO</td>\n",
       "      <td>Colima</td>\n",
       "      <td>La Ticla</td>\n",
       "      <td>Free diving</td>\n",
       "      <td>Gustavo Ramos</td>\n",
       "      <td>M</td>\n",
       "      <td>...</td>\n",
       "      <td>Tiger shark, 3m</td>\n",
       "      <td>A .Kipper</td>\n",
       "      <td>2018.06.04-Ramos.pdf</td>\n",
       "      <td>http://sharkattackfile.net/spreadsheets/pdf_di...</td>\n",
       "      <td>http://sharkattackfile.net/spreadsheets/pdf_di...</td>\n",
       "      <td>2018.06.04</td>\n",
       "      <td>2018.06.04</td>\n",
       "      <td>6299.0</td>\n",
       "      <td>NaN</td>\n",
       "      <td>NaN</td>\n",
       "    </tr>\n",
       "  </tbody>\n",
       "</table>\n",
       "<p>5 rows × 24 columns</p>\n",
       "</div>"
      ],
      "text/plain": [
       "  Case Number         Date    Year        Type    Country             Area  \\\n",
       "0  2018.06.25  25-Jun-2018  2018.0     Boating        USA       California   \n",
       "1  2018.06.18  18-Jun-2018  2018.0  Unprovoked        USA          Georgia   \n",
       "2  2018.06.09  09-Jun-2018  2018.0     Invalid        USA           Hawaii   \n",
       "3  2018.06.08  08-Jun-2018  2018.0  Unprovoked  AUSTRALIA  New South Wales   \n",
       "4  2018.06.04  04-Jun-2018  2018.0    Provoked     MEXICO           Colima   \n",
       "\n",
       "                         Location     Activity             Name Sex   ...  \\\n",
       "0     Oceanside, San Diego County     Paddling      Julie Wolfe    F  ...   \n",
       "1  St. Simon Island, Glynn County     Standing  Adyson McNeely     F  ...   \n",
       "2                    Habush, Oahu      Surfing      John Denges    M  ...   \n",
       "3              Arrawarra Headland      Surfing             male    M  ...   \n",
       "4                        La Ticla  Free diving   Gustavo Ramos     M  ...   \n",
       "\n",
       "          Species           Investigator or Source                       pdf  \\\n",
       "0      White shark                R. Collier, GSAF      2018.06.25-Wolfe.pdf   \n",
       "1              NaN  K.McMurray, TrackingSharks.com    2018.06.18-McNeely.pdf   \n",
       "2              NaN  K.McMurray, TrackingSharks.com     2018.06.09-Denges.pdf   \n",
       "3        2 m shark                  B. Myatt, GSAF  2018.06.08-Arrawarra.pdf   \n",
       "4  Tiger shark, 3m                       A .Kipper      2018.06.04-Ramos.pdf   \n",
       "\n",
       "                                        href formula  \\\n",
       "0  http://sharkattackfile.net/spreadsheets/pdf_di...   \n",
       "1  http://sharkattackfile.net/spreadsheets/pdf_di...   \n",
       "2  http://sharkattackfile.net/spreadsheets/pdf_di...   \n",
       "3  http://sharkattackfile.net/spreadsheets/pdf_di...   \n",
       "4  http://sharkattackfile.net/spreadsheets/pdf_di...   \n",
       "\n",
       "                                                href Case Number.1  \\\n",
       "0  http://sharkattackfile.net/spreadsheets/pdf_di...    2018.06.25   \n",
       "1  http://sharkattackfile.net/spreadsheets/pdf_di...    2018.06.18   \n",
       "2  http://sharkattackfile.net/spreadsheets/pdf_di...    2018.06.09   \n",
       "3  http://sharkattackfile.net/spreadsheets/pdf_di...    2018.06.08   \n",
       "4  http://sharkattackfile.net/spreadsheets/pdf_di...    2018.06.04   \n",
       "\n",
       "  Case Number.2 original order Unnamed: 22 Unnamed: 23  \n",
       "0    2018.06.25         6303.0         NaN         NaN  \n",
       "1    2018.06.18         6302.0         NaN         NaN  \n",
       "2    2018.06.09         6301.0         NaN         NaN  \n",
       "3    2018.06.08         6300.0         NaN         NaN  \n",
       "4    2018.06.04         6299.0         NaN         NaN  \n",
       "\n",
       "[5 rows x 24 columns]"
      ]
     },
     "execution_count": 3679,
     "metadata": {},
     "output_type": "execute_result"
    }
   ],
   "source": [
    "# Vemos las 5 primeras filas del dataset para hacernos una idea sobre que columnas escoger para su posterior limpieza.\n",
    "data_orig.head()"
   ]
  },
  {
   "cell_type": "code",
   "execution_count": 3680,
   "id": "db73a5e4",
   "metadata": {},
   "outputs": [
    {
     "data": {
      "text/plain": [
       "(25723, 24)"
      ]
     },
     "execution_count": 3680,
     "metadata": {},
     "output_type": "execute_result"
    }
   ],
   "source": [
    "#Vemos las dimensiones que tiene el dataset. En este caso tenemos 25723 filas y 24 columnas.\n",
    "\n",
    "data_orig.shape"
   ]
  },
  {
   "cell_type": "code",
   "execution_count": 3681,
   "id": "fadd45ed",
   "metadata": {},
   "outputs": [
    {
     "name": "stdout",
     "output_type": "stream",
     "text": [
      "<class 'pandas.core.frame.DataFrame'>\n",
      "RangeIndex: 25723 entries, 0 to 25722\n",
      "Data columns (total 24 columns):\n",
      " #   Column                  Non-Null Count  Dtype  \n",
      "---  ------                  --------------  -----  \n",
      " 0   Case Number             8702 non-null   object \n",
      " 1   Date                    6302 non-null   object \n",
      " 2   Year                    6300 non-null   float64\n",
      " 3   Type                    6298 non-null   object \n",
      " 4   Country                 6252 non-null   object \n",
      " 5   Area                    5847 non-null   object \n",
      " 6   Location                5762 non-null   object \n",
      " 7   Activity                5758 non-null   object \n",
      " 8   Name                    6092 non-null   object \n",
      " 9   Sex                     5737 non-null   object \n",
      " 10  Age                     3471 non-null   object \n",
      " 11  Injury                  6274 non-null   object \n",
      " 12  Fatal (Y/N)             5763 non-null   object \n",
      " 13  Time                    2948 non-null   object \n",
      " 14  Species                 3464 non-null   object \n",
      " 15  Investigator or Source  6285 non-null   object \n",
      " 16  pdf                     6302 non-null   object \n",
      " 17  href formula            6301 non-null   object \n",
      " 18  href                    6302 non-null   object \n",
      " 19  Case Number.1           6302 non-null   object \n",
      " 20  Case Number.2           6302 non-null   object \n",
      " 21  original order          6309 non-null   float64\n",
      " 22  Unnamed: 22             1 non-null      object \n",
      " 23  Unnamed: 23             2 non-null      object \n",
      "dtypes: float64(2), object(22)\n",
      "memory usage: 22.8 MB\n"
     ]
    }
   ],
   "source": [
    "#Vemos en la informacion el tipo de dato y la memoria que ocupa para proceder a optimizarlo.\n",
    "\n",
    "data.info(memory_usage='deep')"
   ]
  },
  {
   "cell_type": "code",
   "execution_count": 3682,
   "id": "0d974caf",
   "metadata": {},
   "outputs": [
    {
     "data": {
      "text/plain": [
       "['case_number',\n",
       " 'date',\n",
       " 'year',\n",
       " 'type',\n",
       " 'country',\n",
       " 'area',\n",
       " 'location',\n",
       " 'activity',\n",
       " 'name',\n",
       " 'sex',\n",
       " 'age',\n",
       " 'injury',\n",
       " 'fatal_y_n',\n",
       " 'time',\n",
       " 'species',\n",
       " 'investigator_or_source',\n",
       " 'pdf',\n",
       " 'href_formula',\n",
       " 'href',\n",
       " 'case_number_1',\n",
       " 'case_number_2',\n",
       " 'original_order',\n",
       " 'unnamed_22',\n",
       " 'unnamed_23']"
      ]
     },
     "execution_count": 3682,
     "metadata": {},
     "output_type": "execute_result"
    }
   ],
   "source": [
    "#cambiamos los espacios y caracteres por otros.\n",
    "\n",
    "new_cols = [c.lower().rstrip().lstrip().replace(' ', '_').replace('(', '').replace(')', '').replace('/', '_').replace('.', '_').replace(':', '') for c in data.columns]\n",
    "\n",
    "new_cols"
   ]
  },
  {
   "cell_type": "code",
   "execution_count": 3683,
   "id": "9f4f2855",
   "metadata": {},
   "outputs": [
    {
     "data": {
      "text/plain": [
       "{'Case Number': 'case_number',\n",
       " 'Date': 'date',\n",
       " 'Year': 'year',\n",
       " 'Type': 'type',\n",
       " 'Country': 'country',\n",
       " 'Area': 'area',\n",
       " 'Location': 'location',\n",
       " 'Activity': 'activity',\n",
       " 'Name': 'name',\n",
       " 'Sex ': 'sex',\n",
       " 'Age': 'age',\n",
       " 'Injury': 'injury',\n",
       " 'Fatal (Y/N)': 'fatal_y_n',\n",
       " 'Time': 'time',\n",
       " 'Species ': 'species',\n",
       " 'Investigator or Source': 'investigator_or_source',\n",
       " 'pdf': 'pdf',\n",
       " 'href formula': 'href_formula',\n",
       " 'href': 'href',\n",
       " 'Case Number.1': 'case_number_1',\n",
       " 'Case Number.2': 'case_number_2',\n",
       " 'original order': 'original_order',\n",
       " 'Unnamed: 22': 'unnamed_22',\n",
       " 'Unnamed: 23': 'unnamed_23'}"
      ]
     },
     "execution_count": 3683,
     "metadata": {},
     "output_type": "execute_result"
    }
   ],
   "source": [
    "dict(zip(data_orig.columns, new_cols))"
   ]
  },
  {
   "cell_type": "code",
   "execution_count": 3684,
   "id": "36f58229",
   "metadata": {},
   "outputs": [
    {
     "data": {
      "text/html": [
       "<div>\n",
       "<style scoped>\n",
       "    .dataframe tbody tr th:only-of-type {\n",
       "        vertical-align: middle;\n",
       "    }\n",
       "\n",
       "    .dataframe tbody tr th {\n",
       "        vertical-align: top;\n",
       "    }\n",
       "\n",
       "    .dataframe thead th {\n",
       "        text-align: right;\n",
       "    }\n",
       "</style>\n",
       "<table border=\"1\" class=\"dataframe\">\n",
       "  <thead>\n",
       "    <tr style=\"text-align: right;\">\n",
       "      <th></th>\n",
       "      <th>case_number</th>\n",
       "      <th>date</th>\n",
       "      <th>year</th>\n",
       "      <th>type</th>\n",
       "      <th>country</th>\n",
       "      <th>area</th>\n",
       "      <th>location</th>\n",
       "      <th>activity</th>\n",
       "      <th>name</th>\n",
       "      <th>sex</th>\n",
       "      <th>...</th>\n",
       "      <th>species</th>\n",
       "      <th>investigator_or_source</th>\n",
       "      <th>pdf</th>\n",
       "      <th>href_formula</th>\n",
       "      <th>href</th>\n",
       "      <th>case_number_1</th>\n",
       "      <th>case_number_2</th>\n",
       "      <th>original_order</th>\n",
       "      <th>unnamed_22</th>\n",
       "      <th>unnamed_23</th>\n",
       "    </tr>\n",
       "  </thead>\n",
       "  <tbody>\n",
       "    <tr>\n",
       "      <th>0</th>\n",
       "      <td>2018.06.25</td>\n",
       "      <td>25-Jun-2018</td>\n",
       "      <td>2018.0</td>\n",
       "      <td>Boating</td>\n",
       "      <td>USA</td>\n",
       "      <td>California</td>\n",
       "      <td>Oceanside, San Diego County</td>\n",
       "      <td>Paddling</td>\n",
       "      <td>Julie Wolfe</td>\n",
       "      <td>F</td>\n",
       "      <td>...</td>\n",
       "      <td>White shark</td>\n",
       "      <td>R. Collier, GSAF</td>\n",
       "      <td>2018.06.25-Wolfe.pdf</td>\n",
       "      <td>http://sharkattackfile.net/spreadsheets/pdf_di...</td>\n",
       "      <td>http://sharkattackfile.net/spreadsheets/pdf_di...</td>\n",
       "      <td>2018.06.25</td>\n",
       "      <td>2018.06.25</td>\n",
       "      <td>6303.0</td>\n",
       "      <td>NaN</td>\n",
       "      <td>NaN</td>\n",
       "    </tr>\n",
       "    <tr>\n",
       "      <th>1</th>\n",
       "      <td>2018.06.18</td>\n",
       "      <td>18-Jun-2018</td>\n",
       "      <td>2018.0</td>\n",
       "      <td>Unprovoked</td>\n",
       "      <td>USA</td>\n",
       "      <td>Georgia</td>\n",
       "      <td>St. Simon Island, Glynn County</td>\n",
       "      <td>Standing</td>\n",
       "      <td>Adyson McNeely</td>\n",
       "      <td>F</td>\n",
       "      <td>...</td>\n",
       "      <td>NaN</td>\n",
       "      <td>K.McMurray, TrackingSharks.com</td>\n",
       "      <td>2018.06.18-McNeely.pdf</td>\n",
       "      <td>http://sharkattackfile.net/spreadsheets/pdf_di...</td>\n",
       "      <td>http://sharkattackfile.net/spreadsheets/pdf_di...</td>\n",
       "      <td>2018.06.18</td>\n",
       "      <td>2018.06.18</td>\n",
       "      <td>6302.0</td>\n",
       "      <td>NaN</td>\n",
       "      <td>NaN</td>\n",
       "    </tr>\n",
       "    <tr>\n",
       "      <th>2</th>\n",
       "      <td>2018.06.09</td>\n",
       "      <td>09-Jun-2018</td>\n",
       "      <td>2018.0</td>\n",
       "      <td>Invalid</td>\n",
       "      <td>USA</td>\n",
       "      <td>Hawaii</td>\n",
       "      <td>Habush, Oahu</td>\n",
       "      <td>Surfing</td>\n",
       "      <td>John Denges</td>\n",
       "      <td>M</td>\n",
       "      <td>...</td>\n",
       "      <td>NaN</td>\n",
       "      <td>K.McMurray, TrackingSharks.com</td>\n",
       "      <td>2018.06.09-Denges.pdf</td>\n",
       "      <td>http://sharkattackfile.net/spreadsheets/pdf_di...</td>\n",
       "      <td>http://sharkattackfile.net/spreadsheets/pdf_di...</td>\n",
       "      <td>2018.06.09</td>\n",
       "      <td>2018.06.09</td>\n",
       "      <td>6301.0</td>\n",
       "      <td>NaN</td>\n",
       "      <td>NaN</td>\n",
       "    </tr>\n",
       "    <tr>\n",
       "      <th>3</th>\n",
       "      <td>2018.06.08</td>\n",
       "      <td>08-Jun-2018</td>\n",
       "      <td>2018.0</td>\n",
       "      <td>Unprovoked</td>\n",
       "      <td>AUSTRALIA</td>\n",
       "      <td>New South Wales</td>\n",
       "      <td>Arrawarra Headland</td>\n",
       "      <td>Surfing</td>\n",
       "      <td>male</td>\n",
       "      <td>M</td>\n",
       "      <td>...</td>\n",
       "      <td>2 m shark</td>\n",
       "      <td>B. Myatt, GSAF</td>\n",
       "      <td>2018.06.08-Arrawarra.pdf</td>\n",
       "      <td>http://sharkattackfile.net/spreadsheets/pdf_di...</td>\n",
       "      <td>http://sharkattackfile.net/spreadsheets/pdf_di...</td>\n",
       "      <td>2018.06.08</td>\n",
       "      <td>2018.06.08</td>\n",
       "      <td>6300.0</td>\n",
       "      <td>NaN</td>\n",
       "      <td>NaN</td>\n",
       "    </tr>\n",
       "    <tr>\n",
       "      <th>4</th>\n",
       "      <td>2018.06.04</td>\n",
       "      <td>04-Jun-2018</td>\n",
       "      <td>2018.0</td>\n",
       "      <td>Provoked</td>\n",
       "      <td>MEXICO</td>\n",
       "      <td>Colima</td>\n",
       "      <td>La Ticla</td>\n",
       "      <td>Free diving</td>\n",
       "      <td>Gustavo Ramos</td>\n",
       "      <td>M</td>\n",
       "      <td>...</td>\n",
       "      <td>Tiger shark, 3m</td>\n",
       "      <td>A .Kipper</td>\n",
       "      <td>2018.06.04-Ramos.pdf</td>\n",
       "      <td>http://sharkattackfile.net/spreadsheets/pdf_di...</td>\n",
       "      <td>http://sharkattackfile.net/spreadsheets/pdf_di...</td>\n",
       "      <td>2018.06.04</td>\n",
       "      <td>2018.06.04</td>\n",
       "      <td>6299.0</td>\n",
       "      <td>NaN</td>\n",
       "      <td>NaN</td>\n",
       "    </tr>\n",
       "  </tbody>\n",
       "</table>\n",
       "<p>5 rows × 24 columns</p>\n",
       "</div>"
      ],
      "text/plain": [
       "  case_number         date    year        type    country             area  \\\n",
       "0  2018.06.25  25-Jun-2018  2018.0     Boating        USA       California   \n",
       "1  2018.06.18  18-Jun-2018  2018.0  Unprovoked        USA          Georgia   \n",
       "2  2018.06.09  09-Jun-2018  2018.0     Invalid        USA           Hawaii   \n",
       "3  2018.06.08  08-Jun-2018  2018.0  Unprovoked  AUSTRALIA  New South Wales   \n",
       "4  2018.06.04  04-Jun-2018  2018.0    Provoked     MEXICO           Colima   \n",
       "\n",
       "                         location     activity             name sex  ...  \\\n",
       "0     Oceanside, San Diego County     Paddling      Julie Wolfe   F  ...   \n",
       "1  St. Simon Island, Glynn County     Standing  Adyson McNeely    F  ...   \n",
       "2                    Habush, Oahu      Surfing      John Denges   M  ...   \n",
       "3              Arrawarra Headland      Surfing             male   M  ...   \n",
       "4                        La Ticla  Free diving   Gustavo Ramos    M  ...   \n",
       "\n",
       "           species          investigator_or_source                       pdf  \\\n",
       "0      White shark                R. Collier, GSAF      2018.06.25-Wolfe.pdf   \n",
       "1              NaN  K.McMurray, TrackingSharks.com    2018.06.18-McNeely.pdf   \n",
       "2              NaN  K.McMurray, TrackingSharks.com     2018.06.09-Denges.pdf   \n",
       "3        2 m shark                  B. Myatt, GSAF  2018.06.08-Arrawarra.pdf   \n",
       "4  Tiger shark, 3m                       A .Kipper      2018.06.04-Ramos.pdf   \n",
       "\n",
       "                                        href_formula  \\\n",
       "0  http://sharkattackfile.net/spreadsheets/pdf_di...   \n",
       "1  http://sharkattackfile.net/spreadsheets/pdf_di...   \n",
       "2  http://sharkattackfile.net/spreadsheets/pdf_di...   \n",
       "3  http://sharkattackfile.net/spreadsheets/pdf_di...   \n",
       "4  http://sharkattackfile.net/spreadsheets/pdf_di...   \n",
       "\n",
       "                                                href case_number_1  \\\n",
       "0  http://sharkattackfile.net/spreadsheets/pdf_di...    2018.06.25   \n",
       "1  http://sharkattackfile.net/spreadsheets/pdf_di...    2018.06.18   \n",
       "2  http://sharkattackfile.net/spreadsheets/pdf_di...    2018.06.09   \n",
       "3  http://sharkattackfile.net/spreadsheets/pdf_di...    2018.06.08   \n",
       "4  http://sharkattackfile.net/spreadsheets/pdf_di...    2018.06.04   \n",
       "\n",
       "  case_number_2 original_order unnamed_22 unnamed_23  \n",
       "0    2018.06.25         6303.0        NaN        NaN  \n",
       "1    2018.06.18         6302.0        NaN        NaN  \n",
       "2    2018.06.09         6301.0        NaN        NaN  \n",
       "3    2018.06.08         6300.0        NaN        NaN  \n",
       "4    2018.06.04         6299.0        NaN        NaN  \n",
       "\n",
       "[5 rows x 24 columns]"
      ]
     },
     "execution_count": 3684,
     "metadata": {},
     "output_type": "execute_result"
    }
   ],
   "source": [
    "data_orig = data_orig.rename(columns={k:v for k,v in zip(data_orig.columns, new_cols)}) # k=columna vieja, v= columna nueva\n",
    "\n",
    "data_orig.head()"
   ]
  },
  {
   "cell_type": "code",
   "execution_count": 3685,
   "id": "e302463c",
   "metadata": {},
   "outputs": [
    {
     "data": {
      "text/plain": [
       "Index(['date', 'date_2', 'year', 'type', 'country', 'area', 'location',\n",
       "       'activity', 'name', 'sex', 'age', 'injury', 'fatal_y_n', 'time',\n",
       "       'species', 'investigator_or_source', 'pdf', 'href_formula', 'href',\n",
       "       'case_number_1', 'case_number_2', 'original_order', 'unnamed_22',\n",
       "       'unnamed_23'],\n",
       "      dtype='object')"
      ]
     },
     "execution_count": 3685,
     "metadata": {},
     "output_type": "execute_result"
    }
   ],
   "source": [
    "# Cmabiamos el nombre de alguna columna.\n",
    "\n",
    "data_orig.rename(columns = {'case_number':'date','date':'date_2'}, inplace=True)\n",
    "\n",
    "data_orig.columns"
   ]
  },
  {
   "cell_type": "code",
   "execution_count": 3686,
   "id": "c1447919",
   "metadata": {},
   "outputs": [
    {
     "name": "stdout",
     "output_type": "stream",
     "text": [
      "date\n",
      "date_2\n",
      "year\n",
      "type\n",
      "country\n",
      "area\n",
      "location\n",
      "activity\n",
      "name\n",
      "sex\n",
      "age\n",
      "injury\n",
      "fatal_y_n\n",
      "time\n",
      "species\n",
      "investigator_or_source\n",
      "pdf\n",
      "href_formula\n",
      "href\n",
      "case_number_1\n",
      "case_number_2\n",
      "original_order\n",
      "unnamed_22\n",
      "unnamed_23\n"
     ]
    }
   ],
   "source": [
    "for c in data_orig:\n",
    "    print(c)"
   ]
  },
  {
   "cell_type": "markdown",
   "id": "518003c2",
   "metadata": {},
   "source": [
    "##### OPTIMIZACIÓN DE MEMORIA"
   ]
  },
  {
   "cell_type": "code",
   "execution_count": 3687,
   "id": "88ddb75a",
   "metadata": {},
   "outputs": [],
   "source": [
    "# Pasamos de object a category para que ocupe menos memoria nuesto dataset.\n",
    "\n",
    "for c in data.select_dtypes('object').columns:\n",
    "    data[c]=data[c].astype('category')"
   ]
  },
  {
   "cell_type": "code",
   "execution_count": 3688,
   "id": "7e535e77",
   "metadata": {},
   "outputs": [
    {
     "name": "stdout",
     "output_type": "stream",
     "text": [
      "<class 'pandas.core.frame.DataFrame'>\n",
      "RangeIndex: 25723 entries, 0 to 25722\n",
      "Data columns (total 24 columns):\n",
      " #   Column                  Non-Null Count  Dtype   \n",
      "---  ------                  --------------  -----   \n",
      " 0   Case Number             8702 non-null   category\n",
      " 1   Date                    6302 non-null   category\n",
      " 2   Year                    6300 non-null   float64 \n",
      " 3   Type                    6298 non-null   category\n",
      " 4   Country                 6252 non-null   category\n",
      " 5   Area                    5847 non-null   category\n",
      " 6   Location                5762 non-null   category\n",
      " 7   Activity                5758 non-null   category\n",
      " 8   Name                    6092 non-null   category\n",
      " 9   Sex                     5737 non-null   category\n",
      " 10  Age                     3471 non-null   category\n",
      " 11  Injury                  6274 non-null   category\n",
      " 12  Fatal (Y/N)             5763 non-null   category\n",
      " 13  Time                    2948 non-null   category\n",
      " 14  Species                 3464 non-null   category\n",
      " 15  Investigator or Source  6285 non-null   category\n",
      " 16  pdf                     6302 non-null   category\n",
      " 17  href formula            6301 non-null   category\n",
      " 18  href                    6302 non-null   category\n",
      " 19  Case Number.1           6302 non-null   category\n",
      " 20  Case Number.2           6302 non-null   category\n",
      " 21  original order          6309 non-null   float64 \n",
      " 22  Unnamed: 22             1 non-null      category\n",
      " 23  Unnamed: 23             2 non-null      category\n",
      "dtypes: category(22), float64(2)\n",
      "memory usage: 8.4 MB\n"
     ]
    }
   ],
   "source": [
    "# Vemos como efectivamente cambia y se optimiza la memoria.\n",
    "\n",
    "data.info(memory_usage='deep')"
   ]
  },
  {
   "cell_type": "markdown",
   "id": "663ed5f3",
   "metadata": {},
   "source": [
    "##### ELIMINACIÓN DE DUPLICADOS"
   ]
  },
  {
   "cell_type": "code",
   "execution_count": 3689,
   "id": "4d90342a",
   "metadata": {},
   "outputs": [
    {
     "data": {
      "text/html": [
       "<div>\n",
       "<style scoped>\n",
       "    .dataframe tbody tr th:only-of-type {\n",
       "        vertical-align: middle;\n",
       "    }\n",
       "\n",
       "    .dataframe tbody tr th {\n",
       "        vertical-align: top;\n",
       "    }\n",
       "\n",
       "    .dataframe thead th {\n",
       "        text-align: right;\n",
       "    }\n",
       "</style>\n",
       "<table border=\"1\" class=\"dataframe\">\n",
       "  <thead>\n",
       "    <tr style=\"text-align: right;\">\n",
       "      <th></th>\n",
       "      <th>date</th>\n",
       "      <th>date_2</th>\n",
       "      <th>year</th>\n",
       "      <th>type</th>\n",
       "      <th>country</th>\n",
       "      <th>area</th>\n",
       "      <th>location</th>\n",
       "      <th>activity</th>\n",
       "      <th>name</th>\n",
       "      <th>sex</th>\n",
       "      <th>...</th>\n",
       "      <th>species</th>\n",
       "      <th>investigator_or_source</th>\n",
       "      <th>pdf</th>\n",
       "      <th>href_formula</th>\n",
       "      <th>href</th>\n",
       "      <th>case_number_1</th>\n",
       "      <th>case_number_2</th>\n",
       "      <th>original_order</th>\n",
       "      <th>unnamed_22</th>\n",
       "      <th>unnamed_23</th>\n",
       "    </tr>\n",
       "  </thead>\n",
       "  <tbody>\n",
       "    <tr>\n",
       "      <th>6309</th>\n",
       "      <td>0</td>\n",
       "      <td>NaN</td>\n",
       "      <td>NaN</td>\n",
       "      <td>NaN</td>\n",
       "      <td>NaN</td>\n",
       "      <td>NaN</td>\n",
       "      <td>NaN</td>\n",
       "      <td>NaN</td>\n",
       "      <td>NaN</td>\n",
       "      <td>NaN</td>\n",
       "      <td>...</td>\n",
       "      <td>NaN</td>\n",
       "      <td>NaN</td>\n",
       "      <td>NaN</td>\n",
       "      <td>NaN</td>\n",
       "      <td>NaN</td>\n",
       "      <td>NaN</td>\n",
       "      <td>NaN</td>\n",
       "      <td>NaN</td>\n",
       "      <td>NaN</td>\n",
       "      <td>NaN</td>\n",
       "    </tr>\n",
       "    <tr>\n",
       "      <th>6310</th>\n",
       "      <td>0</td>\n",
       "      <td>NaN</td>\n",
       "      <td>NaN</td>\n",
       "      <td>NaN</td>\n",
       "      <td>NaN</td>\n",
       "      <td>NaN</td>\n",
       "      <td>NaN</td>\n",
       "      <td>NaN</td>\n",
       "      <td>NaN</td>\n",
       "      <td>NaN</td>\n",
       "      <td>...</td>\n",
       "      <td>NaN</td>\n",
       "      <td>NaN</td>\n",
       "      <td>NaN</td>\n",
       "      <td>NaN</td>\n",
       "      <td>NaN</td>\n",
       "      <td>NaN</td>\n",
       "      <td>NaN</td>\n",
       "      <td>NaN</td>\n",
       "      <td>NaN</td>\n",
       "      <td>NaN</td>\n",
       "    </tr>\n",
       "    <tr>\n",
       "      <th>6311</th>\n",
       "      <td>0</td>\n",
       "      <td>NaN</td>\n",
       "      <td>NaN</td>\n",
       "      <td>NaN</td>\n",
       "      <td>NaN</td>\n",
       "      <td>NaN</td>\n",
       "      <td>NaN</td>\n",
       "      <td>NaN</td>\n",
       "      <td>NaN</td>\n",
       "      <td>NaN</td>\n",
       "      <td>...</td>\n",
       "      <td>NaN</td>\n",
       "      <td>NaN</td>\n",
       "      <td>NaN</td>\n",
       "      <td>NaN</td>\n",
       "      <td>NaN</td>\n",
       "      <td>NaN</td>\n",
       "      <td>NaN</td>\n",
       "      <td>NaN</td>\n",
       "      <td>NaN</td>\n",
       "      <td>NaN</td>\n",
       "    </tr>\n",
       "    <tr>\n",
       "      <th>6312</th>\n",
       "      <td>0</td>\n",
       "      <td>NaN</td>\n",
       "      <td>NaN</td>\n",
       "      <td>NaN</td>\n",
       "      <td>NaN</td>\n",
       "      <td>NaN</td>\n",
       "      <td>NaN</td>\n",
       "      <td>NaN</td>\n",
       "      <td>NaN</td>\n",
       "      <td>NaN</td>\n",
       "      <td>...</td>\n",
       "      <td>NaN</td>\n",
       "      <td>NaN</td>\n",
       "      <td>NaN</td>\n",
       "      <td>NaN</td>\n",
       "      <td>NaN</td>\n",
       "      <td>NaN</td>\n",
       "      <td>NaN</td>\n",
       "      <td>NaN</td>\n",
       "      <td>NaN</td>\n",
       "      <td>NaN</td>\n",
       "    </tr>\n",
       "    <tr>\n",
       "      <th>6313</th>\n",
       "      <td>0</td>\n",
       "      <td>NaN</td>\n",
       "      <td>NaN</td>\n",
       "      <td>NaN</td>\n",
       "      <td>NaN</td>\n",
       "      <td>NaN</td>\n",
       "      <td>NaN</td>\n",
       "      <td>NaN</td>\n",
       "      <td>NaN</td>\n",
       "      <td>NaN</td>\n",
       "      <td>...</td>\n",
       "      <td>NaN</td>\n",
       "      <td>NaN</td>\n",
       "      <td>NaN</td>\n",
       "      <td>NaN</td>\n",
       "      <td>NaN</td>\n",
       "      <td>NaN</td>\n",
       "      <td>NaN</td>\n",
       "      <td>NaN</td>\n",
       "      <td>NaN</td>\n",
       "      <td>NaN</td>\n",
       "    </tr>\n",
       "    <tr>\n",
       "      <th>...</th>\n",
       "      <td>...</td>\n",
       "      <td>...</td>\n",
       "      <td>...</td>\n",
       "      <td>...</td>\n",
       "      <td>...</td>\n",
       "      <td>...</td>\n",
       "      <td>...</td>\n",
       "      <td>...</td>\n",
       "      <td>...</td>\n",
       "      <td>...</td>\n",
       "      <td>...</td>\n",
       "      <td>...</td>\n",
       "      <td>...</td>\n",
       "      <td>...</td>\n",
       "      <td>...</td>\n",
       "      <td>...</td>\n",
       "      <td>...</td>\n",
       "      <td>...</td>\n",
       "      <td>...</td>\n",
       "      <td>...</td>\n",
       "      <td>...</td>\n",
       "    </tr>\n",
       "    <tr>\n",
       "      <th>25717</th>\n",
       "      <td>NaN</td>\n",
       "      <td>NaN</td>\n",
       "      <td>NaN</td>\n",
       "      <td>NaN</td>\n",
       "      <td>NaN</td>\n",
       "      <td>NaN</td>\n",
       "      <td>NaN</td>\n",
       "      <td>NaN</td>\n",
       "      <td>NaN</td>\n",
       "      <td>NaN</td>\n",
       "      <td>...</td>\n",
       "      <td>NaN</td>\n",
       "      <td>NaN</td>\n",
       "      <td>NaN</td>\n",
       "      <td>NaN</td>\n",
       "      <td>NaN</td>\n",
       "      <td>NaN</td>\n",
       "      <td>NaN</td>\n",
       "      <td>NaN</td>\n",
       "      <td>NaN</td>\n",
       "      <td>NaN</td>\n",
       "    </tr>\n",
       "    <tr>\n",
       "      <th>25718</th>\n",
       "      <td>NaN</td>\n",
       "      <td>NaN</td>\n",
       "      <td>NaN</td>\n",
       "      <td>NaN</td>\n",
       "      <td>NaN</td>\n",
       "      <td>NaN</td>\n",
       "      <td>NaN</td>\n",
       "      <td>NaN</td>\n",
       "      <td>NaN</td>\n",
       "      <td>NaN</td>\n",
       "      <td>...</td>\n",
       "      <td>NaN</td>\n",
       "      <td>NaN</td>\n",
       "      <td>NaN</td>\n",
       "      <td>NaN</td>\n",
       "      <td>NaN</td>\n",
       "      <td>NaN</td>\n",
       "      <td>NaN</td>\n",
       "      <td>NaN</td>\n",
       "      <td>NaN</td>\n",
       "      <td>NaN</td>\n",
       "    </tr>\n",
       "    <tr>\n",
       "      <th>25719</th>\n",
       "      <td>NaN</td>\n",
       "      <td>NaN</td>\n",
       "      <td>NaN</td>\n",
       "      <td>NaN</td>\n",
       "      <td>NaN</td>\n",
       "      <td>NaN</td>\n",
       "      <td>NaN</td>\n",
       "      <td>NaN</td>\n",
       "      <td>NaN</td>\n",
       "      <td>NaN</td>\n",
       "      <td>...</td>\n",
       "      <td>NaN</td>\n",
       "      <td>NaN</td>\n",
       "      <td>NaN</td>\n",
       "      <td>NaN</td>\n",
       "      <td>NaN</td>\n",
       "      <td>NaN</td>\n",
       "      <td>NaN</td>\n",
       "      <td>NaN</td>\n",
       "      <td>NaN</td>\n",
       "      <td>NaN</td>\n",
       "    </tr>\n",
       "    <tr>\n",
       "      <th>25720</th>\n",
       "      <td>NaN</td>\n",
       "      <td>NaN</td>\n",
       "      <td>NaN</td>\n",
       "      <td>NaN</td>\n",
       "      <td>NaN</td>\n",
       "      <td>NaN</td>\n",
       "      <td>NaN</td>\n",
       "      <td>NaN</td>\n",
       "      <td>NaN</td>\n",
       "      <td>NaN</td>\n",
       "      <td>...</td>\n",
       "      <td>NaN</td>\n",
       "      <td>NaN</td>\n",
       "      <td>NaN</td>\n",
       "      <td>NaN</td>\n",
       "      <td>NaN</td>\n",
       "      <td>NaN</td>\n",
       "      <td>NaN</td>\n",
       "      <td>NaN</td>\n",
       "      <td>NaN</td>\n",
       "      <td>NaN</td>\n",
       "    </tr>\n",
       "    <tr>\n",
       "      <th>25721</th>\n",
       "      <td>NaN</td>\n",
       "      <td>NaN</td>\n",
       "      <td>NaN</td>\n",
       "      <td>NaN</td>\n",
       "      <td>NaN</td>\n",
       "      <td>NaN</td>\n",
       "      <td>NaN</td>\n",
       "      <td>NaN</td>\n",
       "      <td>NaN</td>\n",
       "      <td>NaN</td>\n",
       "      <td>...</td>\n",
       "      <td>NaN</td>\n",
       "      <td>NaN</td>\n",
       "      <td>NaN</td>\n",
       "      <td>NaN</td>\n",
       "      <td>NaN</td>\n",
       "      <td>NaN</td>\n",
       "      <td>NaN</td>\n",
       "      <td>NaN</td>\n",
       "      <td>NaN</td>\n",
       "      <td>NaN</td>\n",
       "    </tr>\n",
       "  </tbody>\n",
       "</table>\n",
       "<p>19413 rows × 24 columns</p>\n",
       "</div>"
      ],
      "text/plain": [
       "      date date_2  year type country area location activity name  sex  ...  \\\n",
       "6309     0    NaN   NaN  NaN     NaN  NaN      NaN      NaN  NaN  NaN  ...   \n",
       "6310     0    NaN   NaN  NaN     NaN  NaN      NaN      NaN  NaN  NaN  ...   \n",
       "6311     0    NaN   NaN  NaN     NaN  NaN      NaN      NaN  NaN  NaN  ...   \n",
       "6312     0    NaN   NaN  NaN     NaN  NaN      NaN      NaN  NaN  NaN  ...   \n",
       "6313     0    NaN   NaN  NaN     NaN  NaN      NaN      NaN  NaN  NaN  ...   \n",
       "...    ...    ...   ...  ...     ...  ...      ...      ...  ...  ...  ...   \n",
       "25717  NaN    NaN   NaN  NaN     NaN  NaN      NaN      NaN  NaN  NaN  ...   \n",
       "25718  NaN    NaN   NaN  NaN     NaN  NaN      NaN      NaN  NaN  NaN  ...   \n",
       "25719  NaN    NaN   NaN  NaN     NaN  NaN      NaN      NaN  NaN  NaN  ...   \n",
       "25720  NaN    NaN   NaN  NaN     NaN  NaN      NaN      NaN  NaN  NaN  ...   \n",
       "25721  NaN    NaN   NaN  NaN     NaN  NaN      NaN      NaN  NaN  NaN  ...   \n",
       "\n",
       "      species investigator_or_source  pdf href_formula href case_number_1  \\\n",
       "6309      NaN                    NaN  NaN          NaN  NaN           NaN   \n",
       "6310      NaN                    NaN  NaN          NaN  NaN           NaN   \n",
       "6311      NaN                    NaN  NaN          NaN  NaN           NaN   \n",
       "6312      NaN                    NaN  NaN          NaN  NaN           NaN   \n",
       "6313      NaN                    NaN  NaN          NaN  NaN           NaN   \n",
       "...       ...                    ...  ...          ...  ...           ...   \n",
       "25717     NaN                    NaN  NaN          NaN  NaN           NaN   \n",
       "25718     NaN                    NaN  NaN          NaN  NaN           NaN   \n",
       "25719     NaN                    NaN  NaN          NaN  NaN           NaN   \n",
       "25720     NaN                    NaN  NaN          NaN  NaN           NaN   \n",
       "25721     NaN                    NaN  NaN          NaN  NaN           NaN   \n",
       "\n",
       "      case_number_2 original_order unnamed_22 unnamed_23  \n",
       "6309            NaN            NaN        NaN        NaN  \n",
       "6310            NaN            NaN        NaN        NaN  \n",
       "6311            NaN            NaN        NaN        NaN  \n",
       "6312            NaN            NaN        NaN        NaN  \n",
       "6313            NaN            NaN        NaN        NaN  \n",
       "...             ...            ...        ...        ...  \n",
       "25717           NaN            NaN        NaN        NaN  \n",
       "25718           NaN            NaN        NaN        NaN  \n",
       "25719           NaN            NaN        NaN        NaN  \n",
       "25720           NaN            NaN        NaN        NaN  \n",
       "25721           NaN            NaN        NaN        NaN  \n",
       "\n",
       "[19413 rows x 24 columns]"
      ]
     },
     "execution_count": 3689,
     "metadata": {},
     "output_type": "execute_result"
    }
   ],
   "source": [
    "# Nos muestra los elementos duplicados.\n",
    "\n",
    "data_orig[data_orig.duplicated(keep=False)]"
   ]
  },
  {
   "cell_type": "code",
   "execution_count": 3690,
   "id": "8f58b270",
   "metadata": {},
   "outputs": [],
   "source": [
    "# Eliminamos los elementos duplicados.\n",
    "\n",
    "data_orig.drop_duplicates(inplace=True)"
   ]
  },
  {
   "cell_type": "code",
   "execution_count": 3691,
   "id": "6eb68b94",
   "metadata": {},
   "outputs": [
    {
     "data": {
      "text/plain": [
       "(6312, 24)"
      ]
     },
     "execution_count": 3691,
     "metadata": {},
     "output_type": "execute_result"
    }
   ],
   "source": [
    "# Vemos como se quedan las filas tras aplicar la eliminación de duplicados.\n",
    "\n",
    "data_orig.shape"
   ]
  },
  {
   "cell_type": "markdown",
   "id": "e8c64170",
   "metadata": {},
   "source": [
    "##### VALORES NULOS / NULL VALUES"
   ]
  },
  {
   "cell_type": "code",
   "execution_count": 3693,
   "id": "23627667",
   "metadata": {},
   "outputs": [],
   "source": [
    "# Suma los valores nulos que tenemos en cada columna.\n",
    "\n",
    "nan_cols = data_orig.isna().sum()"
   ]
  },
  {
   "cell_type": "code",
   "execution_count": 3694,
   "id": "96887c0d",
   "metadata": {},
   "outputs": [
    {
     "data": {
      "text/plain": [
       "date                         2\n",
       "date_2                      10\n",
       "year                        12\n",
       "type                        14\n",
       "country                     60\n",
       "area                       465\n",
       "location                   550\n",
       "activity                   554\n",
       "name                       220\n",
       "sex                        575\n",
       "age                       2841\n",
       "injury                      38\n",
       "fatal_y_n                  549\n",
       "time                      3364\n",
       "species                   2848\n",
       "investigator_or_source      27\n",
       "pdf                         10\n",
       "href_formula                11\n",
       "href                        10\n",
       "case_number_1               10\n",
       "case_number_2               10\n",
       "original_order               3\n",
       "unnamed_22                6311\n",
       "unnamed_23                6310\n",
       "dtype: int64"
      ]
     },
     "execution_count": 3694,
     "metadata": {},
     "output_type": "execute_result"
    }
   ],
   "source": [
    "# Nos muestra la suma de valores nulos en cada columna\n",
    "nan_cols[nan_cols>0]"
   ]
  },
  {
   "cell_type": "code",
   "execution_count": 3695,
   "id": "325e7186",
   "metadata": {},
   "outputs": [
    {
     "data": {
      "text/plain": [
       "6312"
      ]
     },
     "execution_count": 3695,
     "metadata": {},
     "output_type": "execute_result"
    }
   ],
   "source": [
    "# Vemos el valor total de nulos en nuestro dataset \n",
    "\n",
    "len(data_orig)"
   ]
  },
  {
   "cell_type": "code",
   "execution_count": 3696,
   "id": "49b801e7",
   "metadata": {},
   "outputs": [
    {
     "data": {
      "image/png": "[encoded data removed]",
      "text/plain": [
       "<Figure size 720x432 with 1 Axes>"
      ]
     },
     "metadata": {
      "needs_background": "light"
     },
     "output_type": "display_data"
    }
   ],
   "source": [
    "# Comprovamos lo nulos que hay en nuestro dataset con esta gráfica.\n",
    "\n",
    "plt.figure(figsize=(10,6))\n",
    "\n",
    "sns.heatmap(data_orig.isna(),\n",
    "           yticklabels=False,\n",
    "           cmap='viridis',\n",
    "           cbar = False)\n",
    "\n",
    "plt.show()"
   ]
  },
  {
   "cell_type": "markdown",
   "id": "49340a09",
   "metadata": {},
   "source": [
    "##### LIMPIEZA DE RUIDO POR COLUMNAS, PASANDO NULOS Y OTROS VALORES QUE NO UTILIZAREMOS A UNKNOWN"
   ]
  },
  {
   "cell_type": "code",
   "execution_count": 3697,
   "id": "776f6f0c",
   "metadata": {},
   "outputs": [
    {
     "data": {
      "text/plain": [
       "array([nan, 'stopped here'], dtype=object)"
      ]
     },
     "execution_count": 3697,
     "metadata": {},
     "output_type": "execute_result"
    }
   ],
   "source": [
    "# Miramos que elementos unicos hay en las columnas unnamed_22 y unnamed_23.\n",
    "\n",
    "data_orig.unnamed_22.unique()"
   ]
  },
  {
   "cell_type": "code",
   "execution_count": 3698,
   "id": "5261c279",
   "metadata": {},
   "outputs": [
    {
     "data": {
      "text/plain": [
       "array([nan, 'Teramo', 'change filename'], dtype=object)"
      ]
     },
     "execution_count": 3698,
     "metadata": {},
     "output_type": "execute_result"
    }
   ],
   "source": [
    "data_orig.unnamed_23.unique()"
   ]
  },
  {
   "cell_type": "code",
   "execution_count": 3699,
   "id": "08433a6f",
   "metadata": {},
   "outputs": [],
   "source": [
    "# Pasamos todos los elementos a unknown.\n",
    "\n",
    "data_orig['unnamed_22'] = 'unknown'\n",
    "data_orig['unnamed_23'] = 'unknown'"
   ]
  },
  {
   "cell_type": "code",
   "execution_count": 3700,
   "id": "92271cc9",
   "metadata": {},
   "outputs": [
    {
     "name": "stdout",
     "output_type": "stream",
     "text": [
      "['unknown']\n",
      "['unknown']\n"
     ]
    }
   ],
   "source": [
    "# Comprobamos que se ha transformado todo a unknown.\n",
    "\n",
    "print(data_orig.unnamed_22.unique())\n",
    "print(data_orig.unnamed_23.unique())"
   ]
  },
  {
   "cell_type": "code",
   "execution_count": 3701,
   "id": "6a155d39",
   "metadata": {},
   "outputs": [
    {
     "data": {
      "image/png": "[encoded data removed]",
      "text/plain": [
       "<Figure size 720x432 with 1 Axes>"
      ]
     },
     "metadata": {
      "needs_background": "light"
     },
     "output_type": "display_data"
    }
   ],
   "source": [
    "# Vemos en la grafica los valores nulos que hemos quitado.\n",
    "\n",
    "plt.figure(figsize=(10,6))\n",
    "\n",
    "sns.heatmap(data_orig.isna(),\n",
    "           yticklabels=False,\n",
    "           cmap='viridis',\n",
    "           cbar = False)\n",
    "\n",
    "plt.show()"
   ]
  },
  {
   "cell_type": "code",
   "execution_count": 3702,
   "id": "45ee4475",
   "metadata": {},
   "outputs": [
    {
     "data": {
      "text/plain": [
       "(6312, 24)"
      ]
     },
     "execution_count": 3702,
     "metadata": {},
     "output_type": "execute_result"
    }
   ],
   "source": [
    "# Recuento de las dimensiones de filas y columnas.\n",
    "\n",
    "data_orig.shape"
   ]
  },
  {
   "cell_type": "code",
   "execution_count": 3703,
   "id": "17235f3d",
   "metadata": {},
   "outputs": [
    {
     "data": {
      "text/plain": [
       "date                         2\n",
       "date_2                      10\n",
       "year                        12\n",
       "type                        14\n",
       "country                     60\n",
       "area                       465\n",
       "location                   550\n",
       "activity                   554\n",
       "name                       220\n",
       "sex                        575\n",
       "age                       2841\n",
       "injury                      38\n",
       "fatal_y_n                  549\n",
       "time                      3364\n",
       "species                   2848\n",
       "investigator_or_source      27\n",
       "pdf                         10\n",
       "href_formula                11\n",
       "href                        10\n",
       "case_number_1               10\n",
       "case_number_2               10\n",
       "original_order               3\n",
       "unnamed_22                   0\n",
       "unnamed_23                   0\n",
       "dtype: int64"
      ]
     },
     "execution_count": 3703,
     "metadata": {},
     "output_type": "execute_result"
    }
   ],
   "source": [
    "# Recuento de nulos por cada columna.\n",
    "\n",
    "nan_cols = data_orig.isna().sum() \n",
    "nan_cols"
   ]
  },
  {
   "cell_type": "code",
   "execution_count": 3704,
   "id": "34a95289",
   "metadata": {},
   "outputs": [
    {
     "name": "stdout",
     "output_type": "stream",
     "text": [
      "Número de datos nulos de las columnas que nos interesan para los insights ataques de tiburones:\n",
      "year: 12\n",
      "country: 60\n",
      "sex: 575\n",
      "age: 2841\n",
      "fatal_y_n: 549\n",
      "species: 2848\n"
     ]
    }
   ],
   "source": [
    "print('Número de datos nulos de las columnas que nos interesan para los insights ataques de tiburones:')\n",
    "print('year:',data_orig['year'].isna().sum())\n",
    "print('country:',data_orig['country'].isna().sum())\n",
    "print('sex:',data_orig['sex'].isna().sum())\n",
    "print('age:',data_orig['age'].isna().sum())\n",
    "print('fatal_y_n:',data_orig['fatal_y_n'].isna().sum())\n",
    "print('species:',data_orig['species'].isna().sum())"
   ]
  },
  {
   "cell_type": "code",
   "execution_count": 3705,
   "id": "b837f160",
   "metadata": {},
   "outputs": [
    {
     "data": {
      "text/plain": [
       "(6312, 24)"
      ]
     },
     "execution_count": 3705,
     "metadata": {},
     "output_type": "execute_result"
    }
   ],
   "source": [
    "data_orig.shape"
   ]
  },
  {
   "cell_type": "markdown",
   "id": "723d6ab6",
   "metadata": {},
   "source": [
    "##### ELIMINACIÓN DE NULOS QUE COINCIDEN ENTRE VARIAS COLUMNAS"
   ]
  },
  {
   "cell_type": "code",
   "execution_count": 3706,
   "id": "c7c3dbf6",
   "metadata": {},
   "outputs": [],
   "source": [
    "# Eliminamos los valores nulos que coinciden en las columnas age, species y time ya que son las que más nulos tenían.\n",
    "\n",
    "no_local = data_orig[data_orig.age.isnull() & data_orig.species.isnull() & data_orig.time.isnull()].index\n",
    "data_orig.drop(no_local, axis=0, inplace=True)"
   ]
  },
  {
   "cell_type": "code",
   "execution_count": 3707,
   "id": "99f0c98f",
   "metadata": {},
   "outputs": [
    {
     "data": {
      "text/plain": [
       "(4997, 24)"
      ]
     },
     "execution_count": 3707,
     "metadata": {},
     "output_type": "execute_result"
    }
   ],
   "source": [
    "data_orig.shape"
   ]
  },
  {
   "cell_type": "code",
   "execution_count": 3708,
   "id": "4decc9ec",
   "metadata": {},
   "outputs": [],
   "source": [
    "# Eliminamos los valores nulos que coinciden en las columnas age y time.\n",
    "\n",
    "no_local = data_orig[data_orig.age.isnull() & data_orig.time.isnull()].index\n",
    "data_orig.drop(no_local, axis=0, inplace=True)"
   ]
  },
  {
   "cell_type": "code",
   "execution_count": 3709,
   "id": "8dae38a8",
   "metadata": {},
   "outputs": [
    {
     "data": {
      "text/plain": [
       "(4063, 24)"
      ]
     },
     "execution_count": 3709,
     "metadata": {},
     "output_type": "execute_result"
    }
   ],
   "source": [
    "data_orig.shape"
   ]
  },
  {
   "cell_type": "code",
   "execution_count": 3710,
   "id": "b2be897b",
   "metadata": {},
   "outputs": [],
   "source": [
    "# Eliminamos los valores nulos que coinciden en las columnas age y species.\n",
    "\n",
    "no_local = data_orig[data_orig.age.isnull() & data_orig.species.isnull()].index\n",
    "data_orig.drop(no_local, axis=0, inplace=True)"
   ]
  },
  {
   "cell_type": "code",
   "execution_count": 3711,
   "id": "ac1b844a",
   "metadata": {},
   "outputs": [
    {
     "data": {
      "text/plain": [
       "(3808, 24)"
      ]
     },
     "execution_count": 3711,
     "metadata": {},
     "output_type": "execute_result"
    }
   ],
   "source": [
    "data_orig.shape"
   ]
  },
  {
   "cell_type": "code",
   "execution_count": 3712,
   "id": "964f2379",
   "metadata": {},
   "outputs": [],
   "source": [
    "# Eliminamos los valores nulos que coinciden en las columnas time y species.\n",
    "\n",
    "no_local = data_orig[data_orig.time.isnull() & data_orig.species.isnull()].index\n",
    "data_orig.drop(no_local, axis=0, inplace=True)"
   ]
  },
  {
   "cell_type": "code",
   "execution_count": 3713,
   "id": "bcb86441",
   "metadata": {},
   "outputs": [
    {
     "data": {
      "text/plain": [
       "(3313, 24)"
      ]
     },
     "execution_count": 3713,
     "metadata": {},
     "output_type": "execute_result"
    }
   ],
   "source": [
    "data_orig.shape"
   ]
  },
  {
   "cell_type": "code",
   "execution_count": 3714,
   "id": "0e0f2f55",
   "metadata": {},
   "outputs": [
    {
     "name": "stdout",
     "output_type": "stream",
     "text": [
      "Número de datos nulos de las columnas que nos interesan para los insights ataques de tiburones:\n",
      "year: 1\n",
      "country: 7\n",
      "sex: 84\n",
      "age: 337\n",
      "fatal_y_n: 269\n",
      "species: 783\n"
     ]
    }
   ],
   "source": [
    "# Recuento de datos nulos de las columnas que nos interesan.\n",
    "\n",
    "print('Número de datos nulos de las columnas que nos interesan para los insights ataques de tiburones:')\n",
    "print('year:',data_orig['year'].isna().sum())\n",
    "print('country:',data_orig['country'].isna().sum())\n",
    "print('sex:',data_orig['sex'].isna().sum())\n",
    "print('age:',data_orig['age'].isna().sum())\n",
    "print('fatal_y_n:',data_orig['fatal_y_n'].isna().sum())\n",
    "print('species:',data_orig['species'].isna().sum())"
   ]
  },
  {
   "cell_type": "markdown",
   "id": "eda1f9b4",
   "metadata": {},
   "source": [
    "##### ELIMINADO DE NULOS DE LA COLUMNA SPECIES"
   ]
  },
  {
   "cell_type": "code",
   "execution_count": 3715,
   "id": "86990956",
   "metadata": {},
   "outputs": [
    {
     "data": {
      "text/plain": [
       "783"
      ]
     },
     "execution_count": 3715,
     "metadata": {},
     "output_type": "execute_result"
    }
   ],
   "source": [
    "data_orig['species'].isna().sum()"
   ]
  },
  {
   "cell_type": "code",
   "execution_count": 3716,
   "id": "bd2b9c20",
   "metadata": {},
   "outputs": [
    {
     "data": {
      "text/plain": [
       "1218"
      ]
     },
     "execution_count": 3716,
     "metadata": {},
     "output_type": "execute_result"
    }
   ],
   "source": [
    "data_orig.species.nunique()"
   ]
  },
  {
   "cell_type": "code",
   "execution_count": 3717,
   "id": "2b7a178b",
   "metadata": {},
   "outputs": [
    {
     "data": {
      "text/html": [
       "<div>\n",
       "<style scoped>\n",
       "    .dataframe tbody tr th:only-of-type {\n",
       "        vertical-align: middle;\n",
       "    }\n",
       "\n",
       "    .dataframe tbody tr th {\n",
       "        vertical-align: top;\n",
       "    }\n",
       "\n",
       "    .dataframe thead th {\n",
       "        text-align: right;\n",
       "    }\n",
       "</style>\n",
       "<table border=\"1\" class=\"dataframe\">\n",
       "  <thead>\n",
       "    <tr style=\"text-align: right;\">\n",
       "      <th></th>\n",
       "      <th>date</th>\n",
       "      <th>date_2</th>\n",
       "      <th>year</th>\n",
       "      <th>type</th>\n",
       "      <th>country</th>\n",
       "      <th>area</th>\n",
       "      <th>location</th>\n",
       "      <th>activity</th>\n",
       "      <th>name</th>\n",
       "      <th>sex</th>\n",
       "      <th>...</th>\n",
       "      <th>species</th>\n",
       "      <th>investigator_or_source</th>\n",
       "      <th>pdf</th>\n",
       "      <th>href_formula</th>\n",
       "      <th>href</th>\n",
       "      <th>case_number_1</th>\n",
       "      <th>case_number_2</th>\n",
       "      <th>original_order</th>\n",
       "      <th>unnamed_22</th>\n",
       "      <th>unnamed_23</th>\n",
       "    </tr>\n",
       "  </thead>\n",
       "  <tbody>\n",
       "    <tr>\n",
       "      <th>1</th>\n",
       "      <td>2018.06.18</td>\n",
       "      <td>18-Jun-2018</td>\n",
       "      <td>2018.0</td>\n",
       "      <td>Unprovoked</td>\n",
       "      <td>USA</td>\n",
       "      <td>Georgia</td>\n",
       "      <td>St. Simon Island, Glynn County</td>\n",
       "      <td>Standing</td>\n",
       "      <td>Adyson McNeely</td>\n",
       "      <td>F</td>\n",
       "      <td>...</td>\n",
       "      <td>NaN</td>\n",
       "      <td>K.McMurray, TrackingSharks.com</td>\n",
       "      <td>2018.06.18-McNeely.pdf</td>\n",
       "      <td>http://sharkattackfile.net/spreadsheets/pdf_di...</td>\n",
       "      <td>http://sharkattackfile.net/spreadsheets/pdf_di...</td>\n",
       "      <td>2018.06.18</td>\n",
       "      <td>2018.06.18</td>\n",
       "      <td>6302.0</td>\n",
       "      <td>unknown</td>\n",
       "      <td>unknown</td>\n",
       "    </tr>\n",
       "    <tr>\n",
       "      <th>2</th>\n",
       "      <td>2018.06.09</td>\n",
       "      <td>09-Jun-2018</td>\n",
       "      <td>2018.0</td>\n",
       "      <td>Invalid</td>\n",
       "      <td>USA</td>\n",
       "      <td>Hawaii</td>\n",
       "      <td>Habush, Oahu</td>\n",
       "      <td>Surfing</td>\n",
       "      <td>John Denges</td>\n",
       "      <td>M</td>\n",
       "      <td>...</td>\n",
       "      <td>NaN</td>\n",
       "      <td>K.McMurray, TrackingSharks.com</td>\n",
       "      <td>2018.06.09-Denges.pdf</td>\n",
       "      <td>http://sharkattackfile.net/spreadsheets/pdf_di...</td>\n",
       "      <td>http://sharkattackfile.net/spreadsheets/pdf_di...</td>\n",
       "      <td>2018.06.09</td>\n",
       "      <td>2018.06.09</td>\n",
       "      <td>6301.0</td>\n",
       "      <td>unknown</td>\n",
       "      <td>unknown</td>\n",
       "    </tr>\n",
       "    <tr>\n",
       "      <th>9</th>\n",
       "      <td>2018.05.26.a</td>\n",
       "      <td>26-May-2018</td>\n",
       "      <td>2018.0</td>\n",
       "      <td>Unprovoked</td>\n",
       "      <td>USA</td>\n",
       "      <td>Florida</td>\n",
       "      <td>Daytona Beach, Volusia County</td>\n",
       "      <td>Standing</td>\n",
       "      <td>male</td>\n",
       "      <td>M</td>\n",
       "      <td>...</td>\n",
       "      <td>NaN</td>\n",
       "      <td>K. McMurray, Tracking Sharks.com</td>\n",
       "      <td>2018.05.26.a-DaytonaBeach.pdf</td>\n",
       "      <td>http://sharkattackfile.net/spreadsheets/pdf_di...</td>\n",
       "      <td>http://sharkattackfile.net/spreadsheets/pdf_di...</td>\n",
       "      <td>2018.05.26.a</td>\n",
       "      <td>2018.05.26.a</td>\n",
       "      <td>6294.0</td>\n",
       "      <td>unknown</td>\n",
       "      <td>unknown</td>\n",
       "    </tr>\n",
       "    <tr>\n",
       "      <th>12</th>\n",
       "      <td>2018.05.13.b</td>\n",
       "      <td>13-May-2018</td>\n",
       "      <td>2018.0</td>\n",
       "      <td>Unprovoked</td>\n",
       "      <td>USA</td>\n",
       "      <td>South Carolina</td>\n",
       "      <td>Hilton Head Island, Beaufort County</td>\n",
       "      <td>Swimming</td>\n",
       "      <td>Jei Turrell</td>\n",
       "      <td>M</td>\n",
       "      <td>...</td>\n",
       "      <td>NaN</td>\n",
       "      <td>C. Creswell, GSAF &amp; K. McMurray TrackingSharks...</td>\n",
       "      <td>2018.05.13.b-Turrell.pdf</td>\n",
       "      <td>http://sharkattackfile.net/spreadsheets/pdf_di...</td>\n",
       "      <td>http://sharkattackfile.net/spreadsheets/pdf_di...</td>\n",
       "      <td>2018.05.13.b</td>\n",
       "      <td>2018.05.13.b</td>\n",
       "      <td>6291.0</td>\n",
       "      <td>unknown</td>\n",
       "      <td>unknown</td>\n",
       "    </tr>\n",
       "    <tr>\n",
       "      <th>29</th>\n",
       "      <td>2018.04.15.a</td>\n",
       "      <td>15-Apr-2018</td>\n",
       "      <td>2018.0</td>\n",
       "      <td>Unprovoked</td>\n",
       "      <td>AUSTRALIA</td>\n",
       "      <td>Western Australia</td>\n",
       "      <td>Cobblestones, Margaret River Area</td>\n",
       "      <td>Surfing</td>\n",
       "      <td>Alejandro Travaglini</td>\n",
       "      <td>M</td>\n",
       "      <td>...</td>\n",
       "      <td>NaN</td>\n",
       "      <td>B.Myatt, GSAF</td>\n",
       "      <td>2018.04.15.a-Travaglini.pdf</td>\n",
       "      <td>http://sharkattackfile.net/spreadsheets/pdf_di...</td>\n",
       "      <td>http://sharkattackfile.net/spreadsheets/pdf_di...</td>\n",
       "      <td>2018.04.15.a</td>\n",
       "      <td>2018.04.15.a</td>\n",
       "      <td>6274.0</td>\n",
       "      <td>unknown</td>\n",
       "      <td>unknown</td>\n",
       "    </tr>\n",
       "    <tr>\n",
       "      <th>...</th>\n",
       "      <td>...</td>\n",
       "      <td>...</td>\n",
       "      <td>...</td>\n",
       "      <td>...</td>\n",
       "      <td>...</td>\n",
       "      <td>...</td>\n",
       "      <td>...</td>\n",
       "      <td>...</td>\n",
       "      <td>...</td>\n",
       "      <td>...</td>\n",
       "      <td>...</td>\n",
       "      <td>...</td>\n",
       "      <td>...</td>\n",
       "      <td>...</td>\n",
       "      <td>...</td>\n",
       "      <td>...</td>\n",
       "      <td>...</td>\n",
       "      <td>...</td>\n",
       "      <td>...</td>\n",
       "      <td>...</td>\n",
       "      <td>...</td>\n",
       "    </tr>\n",
       "    <tr>\n",
       "      <th>5991</th>\n",
       "      <td>1858.03.14</td>\n",
       "      <td>14-Mar-1858</td>\n",
       "      <td>1858.0</td>\n",
       "      <td>Unprovoked</td>\n",
       "      <td>AUSTRALIA</td>\n",
       "      <td>Victoria</td>\n",
       "      <td>Hobson Bay</td>\n",
       "      <td>Bathing</td>\n",
       "      <td>Adolphe Bollander</td>\n",
       "      <td>M</td>\n",
       "      <td>...</td>\n",
       "      <td>NaN</td>\n",
       "      <td>Moreton Bay Courier, 3/31/1858</td>\n",
       "      <td>1858.03.14-Bollander.pdf</td>\n",
       "      <td>http://sharkattackfile.net/spreadsheets/pdf_di...</td>\n",
       "      <td>http://sharkattackfile.net/spreadsheets/pdf_di...</td>\n",
       "      <td>1858.03.14</td>\n",
       "      <td>1858.03.14</td>\n",
       "      <td>312.0</td>\n",
       "      <td>unknown</td>\n",
       "      <td>unknown</td>\n",
       "    </tr>\n",
       "    <tr>\n",
       "      <th>6077</th>\n",
       "      <td>1837.01.17</td>\n",
       "      <td>17-Jan-1837</td>\n",
       "      <td>1837.0</td>\n",
       "      <td>Unprovoked</td>\n",
       "      <td>AUSTRALIA</td>\n",
       "      <td>New South Wales</td>\n",
       "      <td>Macleay River</td>\n",
       "      <td>Washing his feet</td>\n",
       "      <td>Alfred Australia Howe</td>\n",
       "      <td>M</td>\n",
       "      <td>...</td>\n",
       "      <td>NaN</td>\n",
       "      <td>Gazette (Sydney) 1/31/1837; Proc. Royal Aust. ...</td>\n",
       "      <td>1837.01.17-Howe.pdf</td>\n",
       "      <td>http://sharkattackfile.net/spreadsheets/pdf_di...</td>\n",
       "      <td>http://sharkattackfile.net/spreadsheets/pdf_di...</td>\n",
       "      <td>1837.01.17</td>\n",
       "      <td>1837.01.17</td>\n",
       "      <td>226.0</td>\n",
       "      <td>unknown</td>\n",
       "      <td>unknown</td>\n",
       "    </tr>\n",
       "    <tr>\n",
       "      <th>6114</th>\n",
       "      <td>1817.05.11</td>\n",
       "      <td>11-May-1817</td>\n",
       "      <td>1817.0</td>\n",
       "      <td>Unprovoked</td>\n",
       "      <td>SRI LANKA</td>\n",
       "      <td>Western Province</td>\n",
       "      <td>Colombo</td>\n",
       "      <td>Swimming</td>\n",
       "      <td>William May</td>\n",
       "      <td>M</td>\n",
       "      <td>...</td>\n",
       "      <td>NaN</td>\n",
       "      <td>Edinburgh Advertiser. 11/4/1817; R. DeSilva</td>\n",
       "      <td>1817.05.11-May.pdf</td>\n",
       "      <td>http://sharkattackfile.net/spreadsheets/pdf_di...</td>\n",
       "      <td>http://sharkattackfile.net/spreadsheets/pdf_di...</td>\n",
       "      <td>1817.05.11</td>\n",
       "      <td>1817.05.11</td>\n",
       "      <td>189.0</td>\n",
       "      <td>unknown</td>\n",
       "      <td>unknown</td>\n",
       "    </tr>\n",
       "    <tr>\n",
       "      <th>6160</th>\n",
       "      <td>1703.03.26</td>\n",
       "      <td>26-Mar-1703</td>\n",
       "      <td>1703.0</td>\n",
       "      <td>Unprovoked</td>\n",
       "      <td>BARBADOS</td>\n",
       "      <td>Southwest coast</td>\n",
       "      <td>Carlisle Bay</td>\n",
       "      <td>Swimming</td>\n",
       "      <td>Samuel Jennings, a deserter from the British f...</td>\n",
       "      <td>M</td>\n",
       "      <td>...</td>\n",
       "      <td>NaN</td>\n",
       "      <td>W.R.Cutter, Vol.1, p.252</td>\n",
       "      <td>1703.03.26-Jennings.pdf</td>\n",
       "      <td>http://sharkattackfile.net/spreadsheets/pdf_di...</td>\n",
       "      <td>http://sharkattackfile.net/spreadsheets/pdf_di...</td>\n",
       "      <td>1703.03.26</td>\n",
       "      <td>1703.03.26</td>\n",
       "      <td>143.0</td>\n",
       "      <td>unknown</td>\n",
       "      <td>unknown</td>\n",
       "    </tr>\n",
       "    <tr>\n",
       "      <th>6241</th>\n",
       "      <td>ND.0065</td>\n",
       "      <td>1960s</td>\n",
       "      <td>0.0</td>\n",
       "      <td>Unprovoked</td>\n",
       "      <td>IRAQ</td>\n",
       "      <td>Basrah</td>\n",
       "      <td>Shatt-al-Arab River</td>\n",
       "      <td>Fishing from a small boat &amp; put his hand in th...</td>\n",
       "      <td>male</td>\n",
       "      <td>M</td>\n",
       "      <td>...</td>\n",
       "      <td>NaN</td>\n",
       "      <td>B.W. Coad &amp; L.A.J. Al-Hassan</td>\n",
       "      <td>ND-0065-deadfish.pdf</td>\n",
       "      <td>http://sharkattackfile.net/spreadsheets/pdf_di...</td>\n",
       "      <td>http://sharkattackfile.net/spreadsheets/pdf_di...</td>\n",
       "      <td>ND.0065</td>\n",
       "      <td>ND.0065</td>\n",
       "      <td>62.0</td>\n",
       "      <td>unknown</td>\n",
       "      <td>unknown</td>\n",
       "    </tr>\n",
       "  </tbody>\n",
       "</table>\n",
       "<p>783 rows × 24 columns</p>\n",
       "</div>"
      ],
      "text/plain": [
       "              date       date_2    year        type    country  \\\n",
       "1       2018.06.18  18-Jun-2018  2018.0  Unprovoked        USA   \n",
       "2       2018.06.09  09-Jun-2018  2018.0     Invalid        USA   \n",
       "9     2018.05.26.a  26-May-2018  2018.0  Unprovoked        USA   \n",
       "12    2018.05.13.b  13-May-2018  2018.0  Unprovoked        USA   \n",
       "29    2018.04.15.a  15-Apr-2018  2018.0  Unprovoked  AUSTRALIA   \n",
       "...            ...          ...     ...         ...        ...   \n",
       "5991    1858.03.14  14-Mar-1858  1858.0  Unprovoked  AUSTRALIA   \n",
       "6077    1837.01.17  17-Jan-1837  1837.0  Unprovoked  AUSTRALIA   \n",
       "6114    1817.05.11  11-May-1817  1817.0  Unprovoked  SRI LANKA   \n",
       "6160    1703.03.26  26-Mar-1703  1703.0  Unprovoked   BARBADOS   \n",
       "6241       ND.0065        1960s     0.0  Unprovoked       IRAQ   \n",
       "\n",
       "                   area                             location  \\\n",
       "1               Georgia       St. Simon Island, Glynn County   \n",
       "2                Hawaii                         Habush, Oahu   \n",
       "9               Florida        Daytona Beach, Volusia County   \n",
       "12       South Carolina  Hilton Head Island, Beaufort County   \n",
       "29    Western Australia    Cobblestones, Margaret River Area   \n",
       "...                 ...                                  ...   \n",
       "5991           Victoria                           Hobson Bay   \n",
       "6077    New South Wales                        Macleay River   \n",
       "6114   Western Province                              Colombo   \n",
       "6160    Southwest coast                         Carlisle Bay   \n",
       "6241             Basrah                  Shatt-al-Arab River   \n",
       "\n",
       "                                               activity  \\\n",
       "1                                              Standing   \n",
       "2                                               Surfing   \n",
       "9                                              Standing   \n",
       "12                                             Swimming   \n",
       "29                                              Surfing   \n",
       "...                                                 ...   \n",
       "5991                                            Bathing   \n",
       "6077                                   Washing his feet   \n",
       "6114                                           Swimming   \n",
       "6160                                           Swimming   \n",
       "6241  Fishing from a small boat & put his hand in th...   \n",
       "\n",
       "                                                   name sex  ... species  \\\n",
       "1                                       Adyson McNeely    F  ...     NaN   \n",
       "2                                           John Denges   M  ...     NaN   \n",
       "9                                                  male   M  ...     NaN   \n",
       "12                                          Jei Turrell   M  ...     NaN   \n",
       "29                                 Alejandro Travaglini   M  ...     NaN   \n",
       "...                                                 ...  ..  ...     ...   \n",
       "5991                                  Adolphe Bollander   M  ...     NaN   \n",
       "6077                              Alfred Australia Howe   M  ...     NaN   \n",
       "6114                                        William May   M  ...     NaN   \n",
       "6160  Samuel Jennings, a deserter from the British f...   M  ...     NaN   \n",
       "6241                                               male   M  ...     NaN   \n",
       "\n",
       "                                 investigator_or_source  \\\n",
       "1                        K.McMurray, TrackingSharks.com   \n",
       "2                        K.McMurray, TrackingSharks.com   \n",
       "9                      K. McMurray, Tracking Sharks.com   \n",
       "12    C. Creswell, GSAF & K. McMurray TrackingSharks...   \n",
       "29                                        B.Myatt, GSAF   \n",
       "...                                                 ...   \n",
       "5991                     Moreton Bay Courier, 3/31/1858   \n",
       "6077  Gazette (Sydney) 1/31/1837; Proc. Royal Aust. ...   \n",
       "6114        Edinburgh Advertiser. 11/4/1817; R. DeSilva   \n",
       "6160                           W.R.Cutter, Vol.1, p.252   \n",
       "6241                       B.W. Coad & L.A.J. Al-Hassan   \n",
       "\n",
       "                                pdf  \\\n",
       "1            2018.06.18-McNeely.pdf   \n",
       "2             2018.06.09-Denges.pdf   \n",
       "9     2018.05.26.a-DaytonaBeach.pdf   \n",
       "12         2018.05.13.b-Turrell.pdf   \n",
       "29      2018.04.15.a-Travaglini.pdf   \n",
       "...                             ...   \n",
       "5991       1858.03.14-Bollander.pdf   \n",
       "6077            1837.01.17-Howe.pdf   \n",
       "6114             1817.05.11-May.pdf   \n",
       "6160        1703.03.26-Jennings.pdf   \n",
       "6241           ND-0065-deadfish.pdf   \n",
       "\n",
       "                                           href_formula  \\\n",
       "1     http://sharkattackfile.net/spreadsheets/pdf_di...   \n",
       "2     http://sharkattackfile.net/spreadsheets/pdf_di...   \n",
       "9     http://sharkattackfile.net/spreadsheets/pdf_di...   \n",
       "12    http://sharkattackfile.net/spreadsheets/pdf_di...   \n",
       "29    http://sharkattackfile.net/spreadsheets/pdf_di...   \n",
       "...                                                 ...   \n",
       "5991  http://sharkattackfile.net/spreadsheets/pdf_di...   \n",
       "6077  http://sharkattackfile.net/spreadsheets/pdf_di...   \n",
       "6114  http://sharkattackfile.net/spreadsheets/pdf_di...   \n",
       "6160  http://sharkattackfile.net/spreadsheets/pdf_di...   \n",
       "6241  http://sharkattackfile.net/spreadsheets/pdf_di...   \n",
       "\n",
       "                                                   href case_number_1  \\\n",
       "1     http://sharkattackfile.net/spreadsheets/pdf_di...    2018.06.18   \n",
       "2     http://sharkattackfile.net/spreadsheets/pdf_di...    2018.06.09   \n",
       "9     http://sharkattackfile.net/spreadsheets/pdf_di...  2018.05.26.a   \n",
       "12    http://sharkattackfile.net/spreadsheets/pdf_di...  2018.05.13.b   \n",
       "29    http://sharkattackfile.net/spreadsheets/pdf_di...  2018.04.15.a   \n",
       "...                                                 ...           ...   \n",
       "5991  http://sharkattackfile.net/spreadsheets/pdf_di...    1858.03.14   \n",
       "6077  http://sharkattackfile.net/spreadsheets/pdf_di...    1837.01.17   \n",
       "6114  http://sharkattackfile.net/spreadsheets/pdf_di...    1817.05.11   \n",
       "6160  http://sharkattackfile.net/spreadsheets/pdf_di...    1703.03.26   \n",
       "6241  http://sharkattackfile.net/spreadsheets/pdf_di...       ND.0065   \n",
       "\n",
       "     case_number_2 original_order unnamed_22 unnamed_23  \n",
       "1       2018.06.18         6302.0    unknown    unknown  \n",
       "2       2018.06.09         6301.0    unknown    unknown  \n",
       "9     2018.05.26.a         6294.0    unknown    unknown  \n",
       "12    2018.05.13.b         6291.0    unknown    unknown  \n",
       "29    2018.04.15.a         6274.0    unknown    unknown  \n",
       "...            ...            ...        ...        ...  \n",
       "5991    1858.03.14          312.0    unknown    unknown  \n",
       "6077    1837.01.17          226.0    unknown    unknown  \n",
       "6114    1817.05.11          189.0    unknown    unknown  \n",
       "6160    1703.03.26          143.0    unknown    unknown  \n",
       "6241       ND.0065           62.0    unknown    unknown  \n",
       "\n",
       "[783 rows x 24 columns]"
      ]
     },
     "execution_count": 3717,
     "metadata": {},
     "output_type": "execute_result"
    }
   ],
   "source": [
    "data_orig[data_orig['species'].isna()]"
   ]
  },
  {
   "cell_type": "code",
   "execution_count": 3718,
   "id": "00544a26",
   "metadata": {},
   "outputs": [],
   "source": [
    "# Eliminamos los valores nulos de la columna species.\n",
    "\n",
    "index_species = data_orig[data_orig['species'].isna()].index\n",
    "data_orig.drop(index= index_species, inplace = True)"
   ]
  },
  {
   "cell_type": "code",
   "execution_count": 3719,
   "id": "89de6fce",
   "metadata": {},
   "outputs": [
    {
     "data": {
      "text/plain": [
       "(2530, 24)"
      ]
     },
     "execution_count": 3719,
     "metadata": {},
     "output_type": "execute_result"
    }
   ],
   "source": [
    "# Recuento de filas y columnas.\n",
    "\n",
    "data_orig.shape"
   ]
  },
  {
   "cell_type": "code",
   "execution_count": 3720,
   "id": "e2e9f2c5",
   "metadata": {},
   "outputs": [
    {
     "data": {
      "text/plain": [
       "date                        0\n",
       "date_2                      0\n",
       "year                        1\n",
       "type                        0\n",
       "country                     7\n",
       "area                       64\n",
       "location                   66\n",
       "activity                   72\n",
       "name                       13\n",
       "sex                        80\n",
       "age                       337\n",
       "injury                      3\n",
       "fatal_y_n                 267\n",
       "time                      620\n",
       "species                     0\n",
       "investigator_or_source      4\n",
       "pdf                         0\n",
       "href_formula                0\n",
       "href                        0\n",
       "case_number_1               0\n",
       "case_number_2               0\n",
       "original_order              0\n",
       "unnamed_22                  0\n",
       "unnamed_23                  0\n",
       "dtype: int64"
      ]
     },
     "execution_count": 3720,
     "metadata": {},
     "output_type": "execute_result"
    }
   ],
   "source": [
    "nan_cols = data_orig.isna().sum() \n",
    "nan_cols"
   ]
  },
  {
   "cell_type": "markdown",
   "id": "24307e99",
   "metadata": {},
   "source": [
    "##### ELIMINADO DE NULOS DE LA COLUMNA AGE"
   ]
  },
  {
   "cell_type": "code",
   "execution_count": 3723,
   "id": "85ecdf03",
   "metadata": {},
   "outputs": [],
   "source": [
    "# Eliminamos los valores nulos de la columna age.\n",
    "index_species = data_orig[data_orig['age'].isna()].index\n",
    "data_orig.drop(index= index_species, inplace = True)"
   ]
  },
  {
   "cell_type": "code",
   "execution_count": 3724,
   "id": "f9b33c52",
   "metadata": {},
   "outputs": [
    {
     "data": {
      "text/plain": [
       "(2193, 24)"
      ]
     },
     "execution_count": 3724,
     "metadata": {},
     "output_type": "execute_result"
    }
   ],
   "source": [
    "# Recuento de filas y columnas.\n",
    "\n",
    "data_orig.shape"
   ]
  },
  {
   "cell_type": "code",
   "execution_count": 3725,
   "id": "e36ce89d",
   "metadata": {},
   "outputs": [
    {
     "data": {
      "text/plain": [
       "date                        0\n",
       "date_2                      0\n",
       "year                        1\n",
       "type                        0\n",
       "country                     3\n",
       "area                       52\n",
       "location                   56\n",
       "activity                   63\n",
       "name                        5\n",
       "sex                        16\n",
       "age                         0\n",
       "injury                      0\n",
       "fatal_y_n                 220\n",
       "time                      620\n",
       "species                     0\n",
       "investigator_or_source      4\n",
       "pdf                         0\n",
       "href_formula                0\n",
       "href                        0\n",
       "case_number_1               0\n",
       "case_number_2               0\n",
       "original_order              0\n",
       "unnamed_22                  0\n",
       "unnamed_23                  0\n",
       "dtype: int64"
      ]
     },
     "execution_count": 3725,
     "metadata": {},
     "output_type": "execute_result"
    }
   ],
   "source": [
    "nan_cols = data_orig.isna().sum() \n",
    "nan_cols"
   ]
  },
  {
   "cell_type": "markdown",
   "id": "5b3a3029",
   "metadata": {},
   "source": [
    "##### LIMPIEZA DE LOS ELEMENTOS DE LA COLUMNA SPECIE"
   ]
  },
  {
   "cell_type": "code",
   "execution_count": 3726,
   "id": "cce3e052",
   "metadata": {},
   "outputs": [
    {
     "data": {
      "text/plain": [
       "array(['White shark', 'Tiger shark', \"Lemon shark, 3'\", ...,\n",
       "       \"Nurse shark, 2.1 m [7'] \", '\"A pack of sharks\"',\n",
       "       \"12' tiger shark\"], dtype=object)"
      ]
     },
     "execution_count": 3726,
     "metadata": {},
     "output_type": "execute_result"
    }
   ],
   "source": [
    "# Vemos los elementos de la columna species.\n",
    "\n",
    "data_orig.species.unique()"
   ]
  },
  {
   "cell_type": "code",
   "execution_count": 3727,
   "id": "c41ee9c2",
   "metadata": {},
   "outputs": [],
   "source": [
    "# white_shark\n",
    "data_orig.loc[data_orig['species'].str.contains('white', case = False), 'species'] = 'white_shark'\n",
    "\n",
    "# tiger_shark\n",
    "data_orig.loc[data_orig['species'].str.contains('tiger', case = False), 'species'] = 'tiger_shark'\n",
    "\n",
    "# bull_shark\n",
    "data_orig.loc[data_orig['species'].str.contains('bull', case = False), 'species'] = 'bull_shark'\n",
    "\n",
    "# nurse_shark\n",
    "data_orig.loc[data_orig['species'].str.contains('nurse', case = False), 'species'] = 'nurse_shark'\n",
    "\n",
    "# zambesi_shark\n",
    "data_orig.loc[data_orig['species'].str.contains('zambesi', case = False), 'species'] = 'zambesi_shark'\n",
    "data_orig.loc[data_orig['species'].str.contains('zambezi', case = False), 'species'] = 'zambesi_shark'\n",
    "\n",
    "# wobbegong_shark\n",
    "data_orig.loc[data_orig['species'].str.contains('wobbegong', case = False), 'species'] = 'wobbegong_shark'\n",
    "\n",
    "# blue_shark\n",
    "data_orig.loc[data_orig['species'].str.contains('blue', case = False), 'species'] = 'blue_shark'\n",
    "\n",
    "# bronze_whaler_shark\n",
    "data_orig.loc[data_orig['species'].str.contains('bronze', case = False), 'species'] = 'bronze_whaler_shark'\n",
    "\n",
    "# blacktip_shark\n",
    "data_orig.loc[data_orig['species'].str.contains('black', case = False), 'species'] = 'blacktip_shark'\n",
    "\n",
    "# hammerhead_shark\n",
    "data_orig.loc[data_orig['species'].str.contains('hammerhead', case = False), 'species'] = 'hammerhead_shark'\n",
    "\n",
    "# lemon_shark\n",
    "data_orig.loc[data_orig['species'].str.contains('lemon', case = False), 'species'] = 'lemon_shark'\n",
    "\n",
    "# mako_shark\n",
    "data_orig.loc[data_orig['species'].str.contains('mako', case = False), 'species'] = 'mako_shark'\n",
    "\n",
    "# raggedtooth_shark\n",
    "data_orig.loc[data_orig['species'].str.contains('raggedtooth', case = False), 'species'] = 'raggedtooth_shark'\n",
    "\n",
    "# caribbean_reef_shark\n",
    "data_orig.loc[data_orig['species'].str.contains('caribbean', case = False), 'species'] = 'caribbean_reef_shark'\n",
    "\n",
    "# dusky_shark\n",
    "data_orig.loc[data_orig['species'].str.contains('dusky', case = False), 'species'] = 'dusky_shark'\n",
    "\n",
    "# sand_shark\n",
    "data_orig.loc[data_orig['species'].str.contains('sand', case = False), 'species'] = 'sand_shark'\n",
    "\n",
    "# angel_shark\n",
    "data_orig.loc[data_orig['species'].str.contains('angel', case = False), 'species'] = 'angel_shark'\n",
    "\n",
    "# grey_reef_shark\n",
    "data_orig.loc[data_orig['species'].str.contains('grey', case = False), 'species'] = 'grey_reef_shark'\n",
    "\n",
    "# dogfish_shark\n",
    "data_orig.loc[data_orig['species'].str.contains('dogfish', case = False), 'species'] = 'dogfish_shark'\n",
    "\n",
    "# galapagos_shark\n",
    "data_orig.loc[data_orig['species'].str.contains('galapagos', case = False), 'species'] = 'galapagos_shark'\n",
    "\n",
    "# spinner_shark\n",
    "data_orig.loc[data_orig['species'].str.contains('spinner', case = False), 'species'] = 'spinner_shark'\n",
    "\n",
    "# copper_shark\n",
    "data_orig.loc[data_orig['species'].str.contains('copper', case = False), 'species'] = 'copper_shark'\n",
    "\n",
    "# spurdog_shark\n",
    "data_orig.loc[data_orig['species'].str.contains('spurdog', case = False), 'species'] = 'spurdog_shark'\n",
    "\n",
    "# porbeagle_shark\n",
    "data_orig.loc[data_orig['species'].str.contains('porbeagle', case = False), 'species'] = 'porbeagle_shark'\n",
    "\n",
    "# ocean_whitetip_shark\n",
    "data_orig.loc[data_orig['species'].str.contains('whitetip', case = False), 'species'] = 'ocean_whitetip_shark'\n",
    "\n",
    "# port_jackson_shark\n",
    "data_orig.loc[data_orig['species'].str.contains('port', case = False), 'species'] = 'port_jackson_shark'\n",
    "\n",
    "# cookie_cutter_shark\n",
    "data_orig.loc[data_orig['species'].str.contains('cookie', case = False), 'species'] = 'cookie_cutter_shark'\n",
    "\n",
    "# thresher_shark\n",
    "data_orig.loc[data_orig['species'].str.contains('thresher', case = False), 'species'] = 'thresher_shark'\n",
    "\n",
    "\n"
   ]
  },
  {
   "cell_type": "code",
   "execution_count": 3728,
   "id": "f2285a1a",
   "metadata": {},
   "outputs": [
    {
     "data": {
      "text/plain": [
       "array(['white_shark', 'tiger_shark', 'lemon_shark', 'bull_shark',\n",
       "       'grey_reef_shark', 'Invalid incident', 'nurse_shark', '3 m shark',\n",
       "       \"6' shark\", 'Shark involvement not confirmed', 'wobbegong_shark',\n",
       "       '3.5 m shark', '1.8 m shark', 'blacktip_shark',\n",
       "       'Injury believed caused by an eel, not a shark', 'galapagos_shark',\n",
       "       '2m shark', 'small shark', '2 m shark', 'cookie_cutter_shark',\n",
       "       \"8' shark\", 'Death may have been due to drowning', 'Questionable',\n",
       "       'porbeagle_shark', \"5' to 6' shark\",\n",
       "       'Shark involvement questionable', \"4' shark\", 'A small shark',\n",
       "       '\"A small shark\"', '3m shark, probably a smooth hound', \"3' shark\",\n",
       "       \"9' shark\", 'Shark involvement highly doubtful',\n",
       "       'Shark involvement prior to death not confirmed', \"10' shark\",\n",
       "       'caribbean_reef_shark', 'Broadnose sevengill shark, 1.5 m',\n",
       "       \" 6' to 8' shark\", \"3' to 4' shark\", 'blue_shark',\n",
       "       'reef shark, 1m', 'angel_shark', 'dogfish_shark', \"3' to 5' shark\",\n",
       "       \"5' shark\",\n",
       "       \"Said to involve an 8' shark but more likely damage caused by debris\",\n",
       "       '3+ m shark', 'mako_shark', 'No shark involvement',\n",
       "       \"Silky shark, 6.5'\", 'bronze_whaler_shark', 'spinner_shark',\n",
       "       \"4' to 5' shark\", 'juvenile shark', 'hammerhead_shark',\n",
       "       \"Thought to involve a 3' to 4' shark, but shark involvement not confirmed\",\n",
       "       'Shark involvement not cofirmed', \"6' to 7' shark\",\n",
       "       '1m to 1.2 m shark', '3- to 4-foot shark', '3.5 to 4 m shark',\n",
       "       '2 m to  3 m shark', '1.5 m shark', 'raggedtooth_shark',\n",
       "       \"2' shark\", '1 m shark', \"8' to 10' shark\", \"7' shark\",\n",
       "       \"4' to 6' shark\", 'reef shark', \"4' tp 5' shark\",\n",
       "       '1.8 metre shark', \"6' to 8' shark\", 'sand_shark', '7-gill shark?',\n",
       "       '7-gill shark', 'Invalid', 'a small shark',\n",
       "       'shark involvement not confirmed', '\"small sharks\"', '2.5 m shark',\n",
       "       'Seven-gill shark', \"2' to 3' shark\", \"3.5' to 4' shark\",\n",
       "       'Salmon shark suspected, but unlikely', \"14' to 18'shark\",\n",
       "       \"15' shark\", 'a small reef shark', '18\" to 24\" shark',\n",
       "       'port_jackson_shark', '2 to 2.5 m shark', '4 m shark',\n",
       "       \"Sevengill shark, 6' to 8'\", 'zambesi_shark', 'reef shark, 1.5m',\n",
       "       \"1' to 2' shark\", '3 m to 4 m shark',\n",
       "       'Shark involvement prior to death was not confirmed',\n",
       "       '20 to 30kg shark', \"14' shark\", 'thresher_shark', 'spurdog_shark',\n",
       "       'Shark involvement probable, but not confirmed', '80 kg shark',\n",
       "       '2.6 m shark', 'dusky_shark', 'Broadnose sevengill shark',\n",
       "       ' reef shark, 1.8m', \"+3' shark\", \"2' to 3' juvenile shark\",\n",
       "       \"2'  shark\", 'Starry smoothhound shark, 1m', \"4.5 to 5' shark\",\n",
       "       'Shark involvement not confirmed; thought to be a barracuda bite',\n",
       "       \"1.5' to 2' shark\", \"2.5' shark\", '\"a small shark\"',\n",
       "       'Not a shark attack; it was a hoax', '2.27 m shark',\n",
       "       '1.5 to 2 m shark', \"9.5' shark?\", ' ',\n",
       "       \"3' small spotted catshark, Scyliorhinus canicula\",\n",
       "       '24\" to 30\" shark', '2.5 to 3 m shark', '2 to 3 m shark',\n",
       "       '2 m to 3 m shark', \"3' to 3.5' shark\", \"5' to 7' shark\",\n",
       "       \"12' to 18' shark\", \"12' shark\", 'Said to involve a 1.5 m shark',\n",
       "       \"2 m [6.75'] shark, 200-kg shark T\", \"1.8 m [6'] shark\",\n",
       "       \"3.5 m [11.5']shark\", \"[4.5' to 5'] shark\", \"[4' to 5']\",\n",
       "       'On 8/13/2005 anglers from New Zealand caught a 2.8 m [9\\'3\"], 140-kg [309-lb] shark at the same spot. It was believed this was the same shark that killed Alysha',\n",
       "       '\"small shark\"', 'copper_shark', \"4 m [13'] shark\",\n",
       "       \"3 m [10'] shark\", \"2.4 m [8'] shark\", \"1.2 m [4'] shark\",\n",
       "       \"1.2 m to 1.5 m [4' to 5'] shark\", '2 sharks, 4.5 m & 3 m ',\n",
       "       \"0.9 m to 1.5 m [3' to 5'] shark\",\n",
       "       \"2.4 m to 3.7 m [8' to 12'] shark\", \"2 m [6.75'] sevengill  shark\",\n",
       "       '60 cm [23.6\"] blind or brown shark', 'Questionable Incident',\n",
       "       '2 m cow shark', 'Shark involvement doubtful',\n",
       "       'Unidentified species', \"1.5 m to 1.8 m [5' to 6'] shark\",\n",
       "       \"106 cm [3.5']  shark\", '\\x93small brown shark\\x94',\n",
       "       \"3.7 m to 4.3 m [12' to 14'] shark\",\n",
       "       \"0.9 m to 1.2 m [3' to 4'] shark\", 'A \\x93small\\x94 shark',\n",
       "       '15 cm to 20 cm [6\" to 8\"] bite diameter just below left knee',\n",
       "       'Species unidentified',\n",
       "       'Shark involvement not confirmed, injury may be due to a stingray',\n",
       "       \"3.5' to 4.5' shark\", \"3 m to 3.7 m [10' to 12'] shark\",\n",
       "       \"0.9 m  to 1.2 m [3' to 4'] shark\",\n",
       "       \"0.9 m to 1.2 m [3' to 4'] shark; Tooth fragment recovered from hand\",\n",
       "       '\\xa0 ', '1 m  shark', \"2.1 m to 2.4 m [7' to 8'] shark\",\n",
       "       \"3'  shark\", \"0.9 m [3'] shark\",\n",
       "       'Shark involvement prior to death unconfired',\n",
       "       '1.5 m [5\\'] \"whaler shark\"',\n",
       "       'C. leucas tooth fragment recovered from kayak', 'Unidentified',\n",
       "       'Questionable incident - shark bite may have precipitated drowning',\n",
       "       \"2' to 3.5' shark\", \"1.5 m [5'] shark\", \"0.9 m  [3'] shark\",\n",
       "       \"1.2 m to 1.5 m [4.5' to 5'] shark\", '5 m shark',\n",
       "       \"2 m [6.75'] shark\", \"6 m [20'] shark\",\n",
       "       \"1.2 m to 1.8 m [4' to 6'] shark\", \"2.1 to 2.4 m [7' to 8'] shark\",\n",
       "       \"60 cm to 90 cm [2' to 3'] shark\",\n",
       "       \"A 2' shark was seen in the area by witnesses\",\n",
       "       'Shark involvement  questionable', 'Sevengill shark',\n",
       "       '1.3 to 1.6 m shark',\n",
       "       \"3.7 m to 4.6 m [12' to 15'] shark seen in the vicinity\",\n",
       "       'A \"small shark\"', \"4.5' to 5' shark\",\n",
       "       'Shark involvement prior to death suspected but not confirmed',\n",
       "       '\"juvenile shark\"', \"1.8 m to 2.1 m [6' to 7'] shark\",\n",
       "       '\"a young shark\"', '\"reef shark\"',\n",
       "       \"1.2 m to 1.5 m [4' to 5']   shark\",\n",
       "       \"1.5 to 1.8 m [5' to 6'] shark\", \"3.7 m [12'] shark\",\n",
       "       \"2.7 m [9'] shark\", 'Small shark', \"2.1 m [7'] shark\",\n",
       "       \">1.8 m [6'] shark\", '1.3 m [4\\'3\"] shark',\n",
       "       \"1.8 m to 2.4 m [6' to 8'] shark, tooth fragments recovered \",\n",
       "       'Unidentified shark', '>2 m shark', 'Questionable incident',\n",
       "       \"3 m [10'], 270- kg [595-lb] shark\",\n",
       "       \"2.1 m [7'], 140-lb reef shark\", \"1.8 m [6'] shark \",\n",
       "       \"1.8 m to 2.4 m [6' to 8'] shark\",\n",
       "       'Shark involvement prior to death could not be determined',\n",
       "       'Shark involvement suspected but not confirmed', '150-lb shark',\n",
       "       \"1.5 m to 2 m [5' to 6.75'] shark\", '4.3 m shark', '1.6 m shark',\n",
       "       '>1 m shark',\n",
       "       \"2 m to 2.5 m [6.75'  to 8.25'] sixgill or sevengill shark\",\n",
       "       '30-kg [66-lb] shark',\n",
       "       'Shark involvement not confirmed; officials considered barracua',\n",
       "       \"4.5' shark\",\n",
       "       '2.1 m [7\\'] shark with \"a very flat head\\x94 that had followed the boat for 3 days',\n",
       "       \"1.8 m [6'] shark, species identity questionable\",\n",
       "       'C. maculpinnis or C. limbatus', \"3.5 m [11.5'] shark\",\n",
       "       \"4' to 8' shark\", '2.2 m shark', \"2.7 m  [9'] shark\",\n",
       "       \"12' to 14' shark\", \"2.4 m [8'] whaler shark\",\n",
       "       \"Carpet shark, 10' \", \"small sharks'\", \"3.7 m [12'] sharks\",\n",
       "       \"2 m to 2.5 m [6.75'  to 8.25'] shark\", '1.5 m to 2 m shark',\n",
       "       '2 m [6\\'9\"] shark', '1.8 to 2 m C. albimarginatus', \"7.5' shark\",\n",
       "       'Carpet shark', \"4m [13'] shark\", 'Not authenticated',\n",
       "       \"2.7 m [9'] silky shark\", \"1.5 m to 1.8m [5' to 6'] shark\",\n",
       "       'A pack of 6 sharks', \"76 cm [2.5'] carpet shark\",\n",
       "       '1.8 m to 2 m [6\\' to 6\\'9\"] shark', \"1.8 m [6'] carpet shark\",\n",
       "       \"4.6 m [15'] shark\", \"1.8 m [6'], 180-lb shark\",\n",
       "       '2 sharks involved', '300-kg [662-lb] shark',\n",
       "       \"1.8 m [6'], 136-kg [300-lb] shark \", \"4.9 m [16'] whaler\",\n",
       "       \"1.8 to 2.4 m [6' to 8'] shark\", \"Less than 1.2 m [4']\",\n",
       "       \"1.7 m [5.5'] shark\", \"1.8 m [6']  shark\",\n",
       "       'Possibly a broadnose 7-gill shark',\n",
       "       'Dooley believed his Injury was caused by stingray (Dasyatidae family)',\n",
       "       '500-lb shark', \"5.5 m [18'] shark\", '8 sharks',\n",
       "       \"1.8 m to 2.4 m  [6' to 8'] shark\",\n",
       "       \"3.7 to 4.5 m [12' to 15'] shark seen in vicinity\",\n",
       "       '\"A long thin brown-colored shark\"',\n",
       "       \"Horn shar,k Heterodontus francisci, 1.2 m [4'] \", 'Unknown',\n",
       "       \" Sevengill  shark, 1.2 m [4'] \", '60 cm  shark ', '36\"  shark',\n",
       "       \"Next morning a 3 m [10'] shark was caught that had Andrews' leg in its gut\",\n",
       "       '43\" shark', \"2.7 m [9']shark\",\n",
       "       ' \"gummy\" shark (Rhizoprionodon or Loxodon) 1.2 m [4\\']',\n",
       "       \"2.1 m [7'], 90-kg shark\", '> 3 m shark', '80-lb hooked shark',\n",
       "       \"1.2 m [4'], possibly  larger shark\", \"Two 2.1 m [7'] sharks\",\n",
       "       'According to Benjamin, the injury was inflicted by a barracuda, not a shark',\n",
       "       \"2.4 m  [8'] shark\", \"2.7 m [9']  shark\",\n",
       "       \"3 m to 4.3 m [10' to 14'] shark\", \"1.8 to 2.1 m [6' to 7'] shark\",\n",
       "       \"Bitten by several 1.8 m [6'] sharks\",\n",
       "       \"Said to involve 2 sharks: 5.2 m & 6 m [17' & 20'] \",\n",
       "       '200-lb shark', \"Sharks averaged 1.8 m [6'] in length\",\n",
       "       \">3 m [10'] shark\",\n",
       "       'Shark seen feeding on turtle scraps thrown overboard prior to incident.',\n",
       "       \"4.3 m [14'] shark\", '8-lb shark',\n",
       "       \"3.7 m [12'] shark & may have been another shark nearby\",\n",
       "       \"20' shark\", \"2.4 m [8']  shark\",\n",
       "       \"3 m [10'] shark seen in vicinity\", \"10' to 12' shark\",\n",
       "       \">6.7 m [22']  shark\", \"a small shark'\", '136-kg [300-lb] shark',\n",
       "       '1,100-lb shark', \"0.7 m [2.5'] shark\", 'Bonita sharkk, 200-lb',\n",
       "       \"Whaler shark, 2.7 m [9'], 350- to 450-lb  identified by G.P. Whitley\",\n",
       "       '3.3 m [10\\'9\"] shark', \"Said to be 6.4 m [21'] shark\",\n",
       "       'Possibly C. leucas', '1.5 m, 45-kg shark',\n",
       "       '4.5  m [14\\'9\"] shark', '>1.6 m shark',\n",
       "       \"Questionable incident, said to involve a 6' shark\",\n",
       "       \"2.6 m [8.5'] shark landed 2 hours later\",\n",
       "       '2 days later a 600-lb shark was caught 100 yards from the site',\n",
       "       \"4.3 m [14'] shark seen in vicinity\",\n",
       "       \"4 m [13'] shark seen in vicinity\",\n",
       "       \"4.3 m [14'] shark seen in area previous week\",\n",
       "       'Shark involvement prior to death unconfirmed',\n",
       "       '250-lb \"dog shark\"', '\"a dog shark\"',\n",
       "       \"Moreno\\x92s leg  & part of his swim suit found in 9' shark caught two hours after the attack. Identified as carcharhinid shark by L. Schultz & C. Limbaugh on photograph\",\n",
       "       'Said to be a \\x93small shark\\x94',\n",
       "       \"2.7 m [9'] shark later captured by Mitchell-Hedges\",\n",
       "       \"Said to involve a 2.7 m [9'] shark\",\n",
       "       '2.8 m [9\\'3\"] whaler shark captured 3 days later with his remains in its gut',\n",
       "       \"1.8 m to 2.7 m [6' to 9'] shark\", '3 sharks',\n",
       "       'Identified as C. gangeticus by Dr. J. Fayrer', \"16' shark\",\n",
       "       '\"A pack of sharks\"'], dtype=object)"
      ]
     },
     "execution_count": 3728,
     "metadata": {},
     "output_type": "execute_result"
    }
   ],
   "source": [
    "data_orig.species.unique()"
   ]
  },
  {
   "cell_type": "code",
   "execution_count": 3729,
   "id": "6916c7d5",
   "metadata": {},
   "outputs": [],
   "source": [
    "#Guardamos una copia del original de control hasta aqui.\n",
    "data_sharks = data_orig.copy()"
   ]
  },
  {
   "cell_type": "code",
   "execution_count": 3730,
   "id": "4f869be2",
   "metadata": {},
   "outputs": [],
   "source": [
    "# unknown_shark\n",
    "data_sharks.loc[data_sharks['species'].str.contains('xa0', case = False), 'species'] = 'unknown_shark'\n",
    "data_sharks.loc[data_orig['species'].str.contains('shark involvement', case = False), 'species'] = 'unknown_shark'\n",
    "data_sharks.loc[data_orig['species'].str.contains('shark seen', case = False), 'species'] = 'unknown_shark'\n",
    "data_sharks.loc[data_orig['species'].str.contains('species unidentified', case = False), 'species'] = 'unknown_shark'\n",
    "data_sharks.loc[data_orig['species'].str.contains('small', case = False), 'species'] = 'unknown_shark'\n",
    "data_sharks.loc[data_orig['species'].str.contains('unidentified', case = False), 'species'] = 'unknown_shark'\n",
    "data_sharks.loc[data_orig['species'].str.contains('unknown', case = False), 'species'] = 'unknown_shark'\n",
    "data_sharks.loc[data_orig['species'].str.contains('questionable', case = False), 'species'] = 'unknown_shark'\n",
    "data_sharks.loc[data_orig['species'].str.contains('invalid incident', case = False), 'species'] = 'unknown_shark'\n",
    "data_sharks.loc[data_orig['species'].str.contains('invalid', case = False), 'species'] = 'unknown_shark'\n",
    "data_sharks.loc[data_orig['species'].str.contains('Not authenticated', case = False), 'species'] = 'unknown_shark'\n",
    "data_sharks.loc[data_orig['species'].str.contains('juvenile', case = False), 'species'] = 'unknown_shark'\n",
    "data_sharks.loc[data_orig['species'].str.contains('hoax', case = False), 'species'] = 'unknown_shark'\n",
    "data_sharks.loc[data_orig['species'].str.contains('\"', case = False), 'species'] = 'unknown_shark'\n",
    "data_sharks.loc[data_orig['species'].str.contains(\"'\", case = False), 'species'] = 'unknown_shark'\n",
    "data_sharks.loc[data_orig['species'].str.contains(\"C. \", case = False), 'species'] = 'unknown_shark'\n",
    "data_sharks.loc[data_orig['species'].str.contains(\"\\xa0\", case = False), 'species'] = 'unknown_shark'\n",
    "data_sharks.loc[data_orig['species'].str.contains(\"0\", case = False), 'species'] = 'unknown_shark'\n",
    "data_sharks.loc[data_orig['species'].str.contains(\"1\", case = False), 'species'] = 'unknown_shark'\n",
    "data_sharks.loc[data_orig['species'].str.contains(\"2\", case = False), 'species'] = 'unknown_shark'\n",
    "data_sharks.loc[data_orig['species'].str.contains(\"3\", case = False), 'species'] = 'unknown_shark'\n",
    "data_sharks.loc[data_orig['species'].str.contains(\"4\", case = False), 'species'] = 'unknown_shark'\n",
    "data_sharks.loc[data_orig['species'].str.contains(\"7\", case = False), 'species'] = 'unknown_shark'\n",
    "data_sharks.loc[data_orig['species'].str.contains(\"Dooley believed\", case = False), 'species'] = 'unknown_shark'\n",
    "data_sharks.loc[data_orig['species'].str.contains(\"According to\", case = False), 'species'] = 'unknown_shark'\n",
    "data_sharks.loc[data_orig['species'].str.contains(\" \", case = False), 'species'] = 'unknown_shark'"
   ]
  },
  {
   "cell_type": "code",
   "execution_count": 3731,
   "id": "f7069f28",
   "metadata": {},
   "outputs": [
    {
     "data": {
      "text/plain": [
       "array(['white_shark', 'tiger_shark', 'lemon_shark', 'bull_shark',\n",
       "       'grey_reef_shark', 'unknown_shark', 'nurse_shark',\n",
       "       'wobbegong_shark', 'blacktip_shark', 'galapagos_shark',\n",
       "       'cookie_cutter_shark', 'porbeagle_shark', 'caribbean_reef_shark',\n",
       "       'blue_shark', 'angel_shark', 'dogfish_shark', 'mako_shark',\n",
       "       'bronze_whaler_shark', 'spinner_shark', 'hammerhead_shark',\n",
       "       'raggedtooth_shark', 'sand_shark', 'port_jackson_shark',\n",
       "       'zambesi_shark', 'thresher_shark', 'spurdog_shark', 'dusky_shark',\n",
       "       'copper_shark'], dtype=object)"
      ]
     },
     "execution_count": 3731,
     "metadata": {},
     "output_type": "execute_result"
    }
   ],
   "source": [
    "data_sharks.species.unique()"
   ]
  },
  {
   "cell_type": "code",
   "execution_count": 3732,
   "id": "a7920a43",
   "metadata": {},
   "outputs": [
    {
     "data": {
      "text/plain": [
       "28"
      ]
     },
     "execution_count": 3732,
     "metadata": {},
     "output_type": "execute_result"
    }
   ],
   "source": [
    "# Número de especies de tiburón que nos quedan. \n",
    "\n",
    "data_sharks.species.nunique()"
   ]
  },
  {
   "cell_type": "code",
   "execution_count": 3733,
   "id": "f5de90b2",
   "metadata": {},
   "outputs": [
    {
     "data": {
      "text/plain": [
       "(2193, 24)"
      ]
     },
     "execution_count": 3733,
     "metadata": {},
     "output_type": "execute_result"
    }
   ],
   "source": [
    "# Recuento de las filas y columnas.\n",
    "\n",
    "data_sharks.shape"
   ]
  },
  {
   "cell_type": "markdown",
   "id": "8131b4dc",
   "metadata": {},
   "source": [
    "##### ELIMINACIÓN DE VALORES NULOS DE LA COLUMNA COUNTRY"
   ]
  },
  {
   "cell_type": "code",
   "execution_count": 3734,
   "id": "bfdecada",
   "metadata": {},
   "outputs": [
    {
     "data": {
      "text/html": [
       "<div>\n",
       "<style scoped>\n",
       "    .dataframe tbody tr th:only-of-type {\n",
       "        vertical-align: middle;\n",
       "    }\n",
       "\n",
       "    .dataframe tbody tr th {\n",
       "        vertical-align: top;\n",
       "    }\n",
       "\n",
       "    .dataframe thead th {\n",
       "        text-align: right;\n",
       "    }\n",
       "</style>\n",
       "<table border=\"1\" class=\"dataframe\">\n",
       "  <thead>\n",
       "    <tr style=\"text-align: right;\">\n",
       "      <th></th>\n",
       "      <th>date</th>\n",
       "      <th>date_2</th>\n",
       "      <th>year</th>\n",
       "      <th>type</th>\n",
       "      <th>country</th>\n",
       "      <th>area</th>\n",
       "      <th>location</th>\n",
       "      <th>activity</th>\n",
       "      <th>name</th>\n",
       "      <th>sex</th>\n",
       "      <th>...</th>\n",
       "      <th>species</th>\n",
       "      <th>investigator_or_source</th>\n",
       "      <th>pdf</th>\n",
       "      <th>href_formula</th>\n",
       "      <th>href</th>\n",
       "      <th>case_number_1</th>\n",
       "      <th>case_number_2</th>\n",
       "      <th>original_order</th>\n",
       "      <th>unnamed_22</th>\n",
       "      <th>unnamed_23</th>\n",
       "    </tr>\n",
       "  </thead>\n",
       "  <tbody>\n",
       "    <tr>\n",
       "      <th>3399</th>\n",
       "      <td>1970.02.05</td>\n",
       "      <td>5-Feb-1970</td>\n",
       "      <td>1970.0</td>\n",
       "      <td>Unprovoked</td>\n",
       "      <td>NaN</td>\n",
       "      <td>NaN</td>\n",
       "      <td>NaN</td>\n",
       "      <td>Wading</td>\n",
       "      <td>Sally Anne Irvine</td>\n",
       "      <td>F</td>\n",
       "      <td>...</td>\n",
       "      <td>unknown_shark</td>\n",
       "      <td>H.D. Baldridge (1994) SAF Case #1626</td>\n",
       "      <td>1970.02.05-NV-Irvine.pdf</td>\n",
       "      <td>http://sharkattackfile.net/spreadsheets/pdf_di...</td>\n",
       "      <td>http://sharkattackfile.net/spreadsheets/pdf_di...</td>\n",
       "      <td>1970.02.05</td>\n",
       "      <td>1970.02.05</td>\n",
       "      <td>2904.0</td>\n",
       "      <td>unknown</td>\n",
       "      <td>unknown</td>\n",
       "    </tr>\n",
       "    <tr>\n",
       "      <th>3661</th>\n",
       "      <td>1964.09.27</td>\n",
       "      <td>27-Sep-1964</td>\n",
       "      <td>1964.0</td>\n",
       "      <td>Invalid</td>\n",
       "      <td>NaN</td>\n",
       "      <td>NaN</td>\n",
       "      <td>NaN</td>\n",
       "      <td>Spearfishing</td>\n",
       "      <td>Giancarlo Griffon</td>\n",
       "      <td>M</td>\n",
       "      <td>...</td>\n",
       "      <td>unknown_shark</td>\n",
       "      <td>C. Moore. GSAF</td>\n",
       "      <td>1964.09.27-Griffon.pdf</td>\n",
       "      <td>http://sharkattackfile.net/spreadsheets/pdf_di...</td>\n",
       "      <td>http://sharkattackfile.net/spreadsheets/pdf_di...</td>\n",
       "      <td>1964.09.27</td>\n",
       "      <td>1964.09.27</td>\n",
       "      <td>2642.0</td>\n",
       "      <td>unknown</td>\n",
       "      <td>unknown</td>\n",
       "    </tr>\n",
       "    <tr>\n",
       "      <th>5425</th>\n",
       "      <td>1909.01.17</td>\n",
       "      <td>17-Jan-1909</td>\n",
       "      <td>1909.0</td>\n",
       "      <td>Invalid</td>\n",
       "      <td>NaN</td>\n",
       "      <td>NaN</td>\n",
       "      <td>Near the equator</td>\n",
       "      <td>Jumped overboard</td>\n",
       "      <td>Thomas Butler</td>\n",
       "      <td>M</td>\n",
       "      <td>...</td>\n",
       "      <td>unknown_shark</td>\n",
       "      <td>Star, 3/18/1909</td>\n",
       "      <td>1909.01.17-Butler.pdf</td>\n",
       "      <td>http://sharkattackfile.net/spreadsheets/pdf_di...</td>\n",
       "      <td>http://sharkattackfile.net/spreadsheets/pdf_di...</td>\n",
       "      <td>1909.01.17</td>\n",
       "      <td>1909.01.17</td>\n",
       "      <td>878.0</td>\n",
       "      <td>unknown</td>\n",
       "      <td>unknown</td>\n",
       "    </tr>\n",
       "  </tbody>\n",
       "</table>\n",
       "<p>3 rows × 24 columns</p>\n",
       "</div>"
      ],
      "text/plain": [
       "            date       date_2    year        type country area  \\\n",
       "3399  1970.02.05   5-Feb-1970  1970.0  Unprovoked     NaN  NaN   \n",
       "3661  1964.09.27  27-Sep-1964  1964.0     Invalid     NaN  NaN   \n",
       "5425  1909.01.17  17-Jan-1909  1909.0     Invalid     NaN  NaN   \n",
       "\n",
       "              location           activity               name sex  ...  \\\n",
       "3399               NaN             Wading  Sally Anne Irvine   F  ...   \n",
       "3661               NaN       Spearfishing  Giancarlo Griffon   M  ...   \n",
       "5425  Near the equator  Jumped overboard       Thomas Butler   M  ...   \n",
       "\n",
       "            species                investigator_or_source  \\\n",
       "3399  unknown_shark  H.D. Baldridge (1994) SAF Case #1626   \n",
       "3661  unknown_shark                        C. Moore. GSAF   \n",
       "5425  unknown_shark                       Star, 3/18/1909   \n",
       "\n",
       "                           pdf  \\\n",
       "3399  1970.02.05-NV-Irvine.pdf   \n",
       "3661    1964.09.27-Griffon.pdf   \n",
       "5425     1909.01.17-Butler.pdf   \n",
       "\n",
       "                                           href_formula  \\\n",
       "3399  http://sharkattackfile.net/spreadsheets/pdf_di...   \n",
       "3661  http://sharkattackfile.net/spreadsheets/pdf_di...   \n",
       "5425  http://sharkattackfile.net/spreadsheets/pdf_di...   \n",
       "\n",
       "                                                   href case_number_1  \\\n",
       "3399  http://sharkattackfile.net/spreadsheets/pdf_di...    1970.02.05   \n",
       "3661  http://sharkattackfile.net/spreadsheets/pdf_di...    1964.09.27   \n",
       "5425  http://sharkattackfile.net/spreadsheets/pdf_di...    1909.01.17   \n",
       "\n",
       "     case_number_2 original_order unnamed_22 unnamed_23  \n",
       "3399    1970.02.05         2904.0    unknown    unknown  \n",
       "3661    1964.09.27         2642.0    unknown    unknown  \n",
       "5425    1909.01.17          878.0    unknown    unknown  \n",
       "\n",
       "[3 rows x 24 columns]"
      ]
     },
     "execution_count": 3734,
     "metadata": {},
     "output_type": "execute_result"
    }
   ],
   "source": [
    "# Miramos el nulo que tiene country.\n",
    "data_sharks[data_sharks['country'].isna()]"
   ]
  },
  {
   "cell_type": "code",
   "execution_count": 3735,
   "id": "28ffd305",
   "metadata": {},
   "outputs": [],
   "source": [
    "# Eliminamos los valores nulos de la columna country ya que vemos que esa muestra no nos va a aportar nada.\n",
    "index_country = data_sharks[data_sharks['country'].isna()].index\n",
    "data_sharks.drop(index= index_country, inplace = True)"
   ]
  },
  {
   "cell_type": "code",
   "execution_count": 3736,
   "id": "47b3ad20",
   "metadata": {},
   "outputs": [
    {
     "data": {
      "text/plain": [
       "date                        0\n",
       "date_2                      0\n",
       "year                        1\n",
       "type                        0\n",
       "country                     0\n",
       "area                       49\n",
       "location                   54\n",
       "activity                   63\n",
       "name                        5\n",
       "sex                        16\n",
       "age                         0\n",
       "injury                      0\n",
       "fatal_y_n                 218\n",
       "time                      618\n",
       "species                     0\n",
       "investigator_or_source      4\n",
       "pdf                         0\n",
       "href_formula                0\n",
       "href                        0\n",
       "case_number_1               0\n",
       "case_number_2               0\n",
       "original_order              0\n",
       "unnamed_22                  0\n",
       "unnamed_23                  0\n",
       "dtype: int64"
      ]
     },
     "execution_count": 3736,
     "metadata": {},
     "output_type": "execute_result"
    }
   ],
   "source": [
    "\n",
    "nan_cols = data_sharks.isna().sum() \n",
    "nan_cols"
   ]
  },
  {
   "cell_type": "markdown",
   "id": "d46a4761",
   "metadata": {},
   "source": [
    "##### LIMPIEZA DE LOS ELEMENTOS DE LA COLUMNA COUNTRY"
   ]
  },
  {
   "cell_type": "code",
   "execution_count": 3737,
   "id": "1ad2438d",
   "metadata": {},
   "outputs": [
    {
     "data": {
      "text/plain": [
       "array(['USA', 'BRAZIL', 'AUSTRALIA', 'ENGLAND', 'COSTA RICA', 'MALDIVES',\n",
       "       'SOUTH AFRICA', 'THAILAND', 'BAHAMAS', 'ECUADOR', 'NEW CALEDONIA',\n",
       "       'MALAYSIA', 'CUBA', 'SPAIN', 'EGYPT', 'MEXICO', 'REUNION',\n",
       "       'UNITED KINGDOM', 'PHILIPPINES', 'INDONESIA', 'COLUMBIA',\n",
       "       'NEW ZEALAND', 'FRENCH POLYNESIA', 'CAPE VERDE', 'CAYMAN ISLANDS',\n",
       "       'ITALY', 'ST. MARTIN', 'FRANCE', 'JAMAICA', 'TONGA', 'SCOTLAND',\n",
       "       'CANADA', 'CROATIA', 'TAIWAN', 'PAPUA NEW GUINEA', 'RUSSIA',\n",
       "       'SEYCHELLES', 'TURKS & CAICOS', 'UNITED ARAB EMIRATES (UAE)',\n",
       "       'MALTA', 'VIETNAM', 'GUAM', 'MOZAMBIQUE', 'BRITISH VIRGIN ISLANDS',\n",
       "       'NORWAY', 'BELIZE', 'FIJI', 'ATLANTIC OCEAN', 'ST. MAARTIN',\n",
       "       'GRAND CAYMAN', 'CHINA', 'VANUATU', 'SOUTH KOREA', 'SRI LANKA',\n",
       "       'JAPAN', 'URUGUAY', 'VENEZUELA', 'INDIA', 'OKINAWA', 'TANZANIA',\n",
       "       ' TONGA', 'MARSHALL ISLANDS', 'MAURITIUS', 'SENEGAL', 'HONG KONG',\n",
       "       'CHILE', 'EL SALVADOR', 'CARIBBEAN SEA', 'BERMUDA', 'Fiji',\n",
       "       'GREECE', 'KENYA', 'NORTH ATLANTIC OCEAN', 'PORTUGAL',\n",
       "       'SOUTH CHINA SEA', 'ISRAEL', 'WESTERN SAMOA', 'BRITISH ISLES',\n",
       "       'MICRONESIA', 'PALAU', 'NEW BRITAIN', 'NEW GUINEA', 'PANAMA',\n",
       "       'SOLOMON ISLANDS', 'DOMINICAN REPUBLIC',\n",
       "       'FEDERATED STATES OF MICRONESIA', 'BRITISH WEST INDIES',\n",
       "       'MADAGASCAR', 'MID ATLANTIC OCEAN', 'NORTH PACIFIC OCEAN',\n",
       "       'JOHNSTON ISLAND', 'NORTH SEA', 'AMERICAN SAMOA',\n",
       "       'ANDAMAN / NICOBAR ISLANDAS', 'PACIFIC OCEAN', 'ARGENTINA', 'IRAN',\n",
       "       'IRAQ', 'SOUTH ATLANTIC OCEAN', 'TRINIDAD & TOBAGO', 'CYPRUS'],\n",
       "      dtype=object)"
      ]
     },
     "execution_count": 3737,
     "metadata": {},
     "output_type": "execute_result"
    }
   ],
   "source": [
    "data_sharks.country.unique()"
   ]
  },
  {
   "cell_type": "code",
   "execution_count": 3738,
   "id": "c7a946a3",
   "metadata": {},
   "outputs": [],
   "source": [
    "# Transformamos estos elementos de paises al que pertenecen \n",
    "\n",
    "data_sharks.loc[data_sharks['country'].str.contains('ENGLAND', case = False), 'country'] = 'UNITED KINGDOM'\n",
    "data_sharks.loc[data_sharks['country'].str.contains('SCOTLAND', case = False), 'country'] = 'UNITED KINGDOM'\n",
    "data_sharks.loc[data_sharks['country'].str.contains('ST. MARTIN', case = False), 'country'] = 'SAINT MARTIN'\n",
    "data_sharks.loc[data_sharks['country'].str.contains('ST. MAARTIN', case = False), 'country'] = 'SAINT MARTIN'\n",
    "data_sharks.loc[data_sharks['country'].str.contains('FEDERATED STATES OF MICRONESIA', case = False), 'country'] = 'MICRONESIA'\n",
    "data_sharks.loc[data_sharks['country'].str.contains('ANDAMAN / NICOBAR ISLANDAS', case = False), 'country'] = 'ANDAMAN & NICOBAR ISLANDS'\n",
    "data_sharks.loc[data_sharks['country'].str.contains('BRITISH WEST INDIES', case = False), 'country'] = 'TURKS & CAICOS'\n",
    "data_sharks.loc[data_sharks['country'].str.contains('COLUMBIA', case = False), 'country'] = 'COLOMBIA'\n",
    "data_sharks.loc[data_sharks['country'].str.contains('OKINAWA', case = False), 'country'] = 'JAPAN'\n",
    "data_sharks.loc[data_sharks['country'].str.contains('GRAND CAYMAN', case = False), 'country'] = 'CAYMAN ISLANDS'\n",
    "data_sharks.loc[data_sharks['country'].str.contains('JOHNSTON ISLAND', case = False), 'country'] = 'USA'\n",
    "data_sharks.loc[data_sharks['country'].str.contains('NEW BRITAIN', case = False), 'country'] = 'PAPUA NEW GUINEA'\n",
    "data_sharks.loc[data_sharks['country'].str.contains('PALAU', case = False), 'country'] = 'MICRONESIA'\n",
    "data_sharks.loc[data_sharks['country'].str.contains('fiji', case = False), 'country'] = 'FIJI'\n",
    "data_sharks.loc[data_sharks['country'].str.contains('SOUTH CHINA SEA', case = False), 'country'] = 'CHINA'\n",
    "data_sharks.loc[data_sharks['country'].str.contains(' TONGA', case = False), 'country'] = 'TONGA'\n",
    "\n",
    "\n",
    "# Añadimos Guam a Micronesia aunque pertenezca a USA ya que fisicamente esta en Micronesia.\n",
    "data_sharks.loc[data_sharks['country'].str.contains('GUAM', case = False), 'country'] = 'MICRONESIA'\n",
    "\n"
   ]
  },
  {
   "cell_type": "code",
   "execution_count": 3739,
   "id": "c868b9c7",
   "metadata": {},
   "outputs": [
    {
     "data": {
      "text/plain": [
       "array(['USA', 'BRAZIL', 'AUSTRALIA', 'UNITED KINGDOM', 'COSTA RICA',\n",
       "       'MALDIVES', 'SOUTH AFRICA', 'THAILAND', 'BAHAMAS', 'ECUADOR',\n",
       "       'NEW CALEDONIA', 'MALAYSIA', 'CUBA', 'SPAIN', 'EGYPT', 'MEXICO',\n",
       "       'REUNION', 'PHILIPPINES', 'INDONESIA', 'COLOMBIA', 'NEW ZEALAND',\n",
       "       'FRENCH POLYNESIA', 'CAPE VERDE', 'CAYMAN ISLANDS', 'ITALY',\n",
       "       'SAINT MARTIN', 'FRANCE', 'JAMAICA', 'TONGA', 'CANADA', 'CROATIA',\n",
       "       'TAIWAN', 'PAPUA NEW GUINEA', 'RUSSIA', 'SEYCHELLES',\n",
       "       'TURKS & CAICOS', 'UNITED ARAB EMIRATES (UAE)', 'MALTA', 'VIETNAM',\n",
       "       'MICRONESIA', 'MOZAMBIQUE', 'BRITISH VIRGIN ISLANDS', 'NORWAY',\n",
       "       'BELIZE', 'FIJI', 'ATLANTIC OCEAN', 'CHINA', 'VANUATU',\n",
       "       'SOUTH KOREA', 'SRI LANKA', 'JAPAN', 'URUGUAY', 'VENEZUELA',\n",
       "       'INDIA', 'TANZANIA', 'MARSHALL ISLANDS', 'MAURITIUS', 'SENEGAL',\n",
       "       'HONG KONG', 'CHILE', 'EL SALVADOR', 'CARIBBEAN SEA', 'BERMUDA',\n",
       "       'GREECE', 'KENYA', 'NORTH ATLANTIC OCEAN', 'PORTUGAL', 'ISRAEL',\n",
       "       'WESTERN SAMOA', 'BRITISH ISLES', 'NEW GUINEA', 'PANAMA',\n",
       "       'SOLOMON ISLANDS', 'DOMINICAN REPUBLIC', 'MADAGASCAR',\n",
       "       'MID ATLANTIC OCEAN', 'NORTH PACIFIC OCEAN', 'NORTH SEA',\n",
       "       'AMERICAN SAMOA', 'ANDAMAN & NICOBAR ISLANDS', 'PACIFIC OCEAN',\n",
       "       'ARGENTINA', 'IRAN', 'IRAQ', 'SOUTH ATLANTIC OCEAN',\n",
       "       'TRINIDAD & TOBAGO', 'CYPRUS'], dtype=object)"
      ]
     },
     "execution_count": 3739,
     "metadata": {},
     "output_type": "execute_result"
    }
   ],
   "source": [
    "# Vemos como quedan los elementos de la columna de country tras el primer filtrado.\n",
    "\n",
    "data_sharks.country.unique()"
   ]
  },
  {
   "cell_type": "code",
   "execution_count": 3740,
   "id": "d2c9a051",
   "metadata": {},
   "outputs": [],
   "source": [
    "index_country = data_sharks[data_sharks['country'] == 'SOUTH ATLANTIC OCEAN'].index \n",
    "data_sharks.drop(index = index_country, inplace = True)\n",
    "\n",
    "index_country = data_sharks[data_sharks['country'] == 'NORTH SEA'].index \n",
    "data_sharks.drop(index = index_country, inplace = True)\n",
    "\n",
    "index_country = data_sharks[data_sharks['country'] == 'NORTH ATLANTIC OCEAN'].index \n",
    "data_sharks.drop(index = index_country, inplace = True)\n",
    "\n",
    "index_country = data_sharks[data_sharks['country'] == 'MID ATLANTIC OCEAN'].index \n",
    "data_sharks.drop(index = index_country, inplace = True)\n",
    "\n",
    "index_country = data_sharks[data_sharks['country'] == 'NORTH PACIFIC OCEAN'].index \n",
    "data_sharks.drop(index = index_country, inplace = True)\n",
    "\n",
    "index_country = data_sharks[data_sharks['country'] == 'PACIFIC OCEAN'].index \n",
    "data_sharks.drop(index = index_country, inplace = True)\n",
    "\n",
    "index_country = data_sharks[data_sharks['country'] == 'CARIBBEAN SEA'].index \n",
    "data_sharks.drop(index = index_country, inplace = True)"
   ]
  },
  {
   "cell_type": "code",
   "execution_count": 3741,
   "id": "28e4f4dd",
   "metadata": {},
   "outputs": [
    {
     "data": {
      "text/plain": [
       "array(['USA', 'BRAZIL', 'AUSTRALIA', 'UNITED KINGDOM', 'COSTA RICA',\n",
       "       'MALDIVES', 'SOUTH AFRICA', 'THAILAND', 'BAHAMAS', 'ECUADOR',\n",
       "       'NEW CALEDONIA', 'MALAYSIA', 'CUBA', 'SPAIN', 'EGYPT', 'MEXICO',\n",
       "       'REUNION', 'PHILIPPINES', 'INDONESIA', 'COLOMBIA', 'NEW ZEALAND',\n",
       "       'FRENCH POLYNESIA', 'CAPE VERDE', 'CAYMAN ISLANDS', 'ITALY',\n",
       "       'SAINT MARTIN', 'FRANCE', 'JAMAICA', 'TONGA', 'CANADA', 'CROATIA',\n",
       "       'TAIWAN', 'PAPUA NEW GUINEA', 'RUSSIA', 'SEYCHELLES',\n",
       "       'TURKS & CAICOS', 'UNITED ARAB EMIRATES (UAE)', 'MALTA', 'VIETNAM',\n",
       "       'MICRONESIA', 'MOZAMBIQUE', 'BRITISH VIRGIN ISLANDS', 'NORWAY',\n",
       "       'BELIZE', 'FIJI', 'ATLANTIC OCEAN', 'CHINA', 'VANUATU',\n",
       "       'SOUTH KOREA', 'SRI LANKA', 'JAPAN', 'URUGUAY', 'VENEZUELA',\n",
       "       'INDIA', 'TANZANIA', 'MARSHALL ISLANDS', 'MAURITIUS', 'SENEGAL',\n",
       "       'HONG KONG', 'CHILE', 'EL SALVADOR', 'BERMUDA', 'GREECE', 'KENYA',\n",
       "       'PORTUGAL', 'ISRAEL', 'WESTERN SAMOA', 'BRITISH ISLES',\n",
       "       'NEW GUINEA', 'PANAMA', 'SOLOMON ISLANDS', 'DOMINICAN REPUBLIC',\n",
       "       'MADAGASCAR', 'AMERICAN SAMOA', 'ANDAMAN & NICOBAR ISLANDS',\n",
       "       'ARGENTINA', 'IRAN', 'IRAQ', 'TRINIDAD & TOBAGO', 'CYPRUS'],\n",
       "      dtype=object)"
      ]
     },
     "execution_count": 3741,
     "metadata": {},
     "output_type": "execute_result"
    }
   ],
   "source": [
    "# Vemos como quedan los elementos de la columna de country tras el segundo filtrado.\n",
    "\n",
    "data_sharks.country.unique()"
   ]
  },
  {
   "cell_type": "code",
   "execution_count": 3742,
   "id": "5aaa25f2",
   "metadata": {},
   "outputs": [
    {
     "data": {
      "text/plain": [
       "(2182, 24)"
      ]
     },
     "execution_count": 3742,
     "metadata": {},
     "output_type": "execute_result"
    }
   ],
   "source": [
    "data_sharks.shape"
   ]
  },
  {
   "cell_type": "markdown",
   "id": "bb828bf6",
   "metadata": {},
   "source": [
    "##### LIMPIEZA DE LOS ELEMENTOS DE LA COLUMNA SEX"
   ]
  },
  {
   "cell_type": "code",
   "execution_count": 3743,
   "id": "6f49bda3",
   "metadata": {},
   "outputs": [
    {
     "data": {
      "text/plain": [
       "array(['F', 'M', nan, 'lli'], dtype=object)"
      ]
     },
     "execution_count": 3743,
     "metadata": {},
     "output_type": "execute_result"
    }
   ],
   "source": [
    "# Miramos los elementos únicos de la columna sex.\n",
    "data_sharks.sex.unique()"
   ]
  },
  {
   "cell_type": "code",
   "execution_count": 3744,
   "id": "1b534a7d",
   "metadata": {},
   "outputs": [],
   "source": [
    "index_sex = data_sharks[data_sharks['sex'] == 'lli'].index \n",
    "data_sharks.drop(index = index_sex, inplace = True)"
   ]
  },
  {
   "cell_type": "code",
   "execution_count": 3745,
   "id": "4903110f",
   "metadata": {},
   "outputs": [
    {
     "data": {
      "text/plain": [
       "(2181, 24)"
      ]
     },
     "execution_count": 3745,
     "metadata": {},
     "output_type": "execute_result"
    }
   ],
   "source": [
    "data_sharks.shape"
   ]
  },
  {
   "cell_type": "code",
   "execution_count": 3746,
   "id": "00fbd34b",
   "metadata": {},
   "outputs": [],
   "source": [
    "# Eliminamos los valores nulos de la columna sex ya que vemos que esa muestra no nos va a aportar nada.\n",
    "index_sex = data_sharks[data_sharks['sex'].isna()].index\n",
    "data_sharks.drop(index= index_sex, inplace = True)"
   ]
  },
  {
   "cell_type": "code",
   "execution_count": 3747,
   "id": "d0fe7c54",
   "metadata": {},
   "outputs": [
    {
     "data": {
      "text/plain": [
       "array(['F', 'M'], dtype=object)"
      ]
     },
     "execution_count": 3747,
     "metadata": {},
     "output_type": "execute_result"
    }
   ],
   "source": [
    "data_sharks.sex.unique()"
   ]
  },
  {
   "cell_type": "code",
   "execution_count": 3748,
   "id": "48789523",
   "metadata": {},
   "outputs": [
    {
     "data": {
      "text/plain": [
       "(2165, 24)"
      ]
     },
     "execution_count": 3748,
     "metadata": {},
     "output_type": "execute_result"
    }
   ],
   "source": [
    "# Recuento de filas y columnas.\n",
    "\n",
    "data_sharks.shape"
   ]
  },
  {
   "cell_type": "code",
   "execution_count": 3749,
   "id": "fb37d2b3",
   "metadata": {},
   "outputs": [
    {
     "name": "stdout",
     "output_type": "stream",
     "text": [
      "<class 'pandas.core.frame.DataFrame'>\n",
      "Int64Index: 2165 entries, 0 to 6276\n",
      "Data columns (total 24 columns):\n",
      " #   Column                  Non-Null Count  Dtype  \n",
      "---  ------                  --------------  -----  \n",
      " 0   date                    2165 non-null   object \n",
      " 1   date_2                  2165 non-null   object \n",
      " 2   year                    2164 non-null   float64\n",
      " 3   type                    2165 non-null   object \n",
      " 4   country                 2165 non-null   object \n",
      " 5   area                    2120 non-null   object \n",
      " 6   location                2113 non-null   object \n",
      " 7   activity                2104 non-null   object \n",
      " 8   name                    2161 non-null   object \n",
      " 9   sex                     2165 non-null   object \n",
      " 10  age                     2165 non-null   object \n",
      " 11  injury                  2165 non-null   object \n",
      " 12  fatal_y_n               1950 non-null   object \n",
      " 13  time                    1559 non-null   object \n",
      " 14  species                 2165 non-null   object \n",
      " 15  investigator_or_source  2161 non-null   object \n",
      " 16  pdf                     2165 non-null   object \n",
      " 17  href_formula            2165 non-null   object \n",
      " 18  href                    2165 non-null   object \n",
      " 19  case_number_1           2165 non-null   object \n",
      " 20  case_number_2           2165 non-null   object \n",
      " 21  original_order          2165 non-null   float64\n",
      " 22  unnamed_22              2165 non-null   object \n",
      " 23  unnamed_23              2165 non-null   object \n",
      "dtypes: float64(2), object(22)\n",
      "memory usage: 3.4 MB\n"
     ]
    }
   ],
   "source": [
    "data_sharks.info(memory_usage='deep')"
   ]
  },
  {
   "cell_type": "markdown",
   "id": "7645f279",
   "metadata": {},
   "source": [
    "##### LIMPIEZA DE LOS ELEMENTOS DE LA COLUMNA YEAR"
   ]
  },
  {
   "cell_type": "code",
   "execution_count": 3750,
   "id": "36ffc2a7",
   "metadata": {},
   "outputs": [
    {
     "data": {
      "text/plain": [
       "array([2018., 2017.,   nan, 2016., 2015., 2014., 2013., 2012., 2011.,\n",
       "       2010., 2009., 2008., 2007., 2006., 2005., 2004., 2003., 2002.,\n",
       "       2001., 2000., 1999., 1998., 1997., 1996., 1995., 1994., 1993.,\n",
       "       1992., 1991., 1990., 1989., 1969., 1988., 1987., 1986., 1985.,\n",
       "       1984., 1983., 1982., 1981., 1980., 1979., 1978., 1977., 1976.,\n",
       "       1975., 1974., 1973., 1972., 1971., 1970., 1968., 1967., 1966.,\n",
       "       1965., 1964., 1963., 1962., 1961., 1960., 1959., 1958., 1957.,\n",
       "       1956., 1955., 1954., 1953., 1952., 1951., 1950., 1949., 1948.,\n",
       "       1947., 1946., 1945., 1944., 1943., 1942., 1941., 1940., 1939.,\n",
       "       1938., 1937., 1936., 1935., 1934., 1933., 1932., 1931., 1930.,\n",
       "       1929., 1928., 1927., 1926., 1925., 1924., 1922., 1920., 1919.,\n",
       "       1916., 1912., 1909., 1906., 1905., 1901., 1899., 1898., 1894.,\n",
       "       1892., 1881., 1880., 1879., 1878., 1868., 1863., 1862., 1852.,\n",
       "          0.])"
      ]
     },
     "execution_count": 3750,
     "metadata": {},
     "output_type": "execute_result"
    }
   ],
   "source": [
    "#Vemos los elementos de la columna de year.\n",
    "\n",
    "data_sharks.year.unique()"
   ]
  },
  {
   "cell_type": "code",
   "execution_count": 3751,
   "id": "b956efcf",
   "metadata": {},
   "outputs": [],
   "source": [
    "# Eliminamos el elemento 0.\n",
    "\n",
    "data_sharks.loc[data_sharks['year'] ==0] = None"
   ]
  },
  {
   "cell_type": "code",
   "execution_count": 3752,
   "id": "0ca99042",
   "metadata": {},
   "outputs": [
    {
     "data": {
      "text/plain": [
       "array([2018., 2017.,   nan, 2016., 2015., 2014., 2013., 2012., 2011.,\n",
       "       2010., 2009., 2008., 2007., 2006., 2005., 2004., 2003., 2002.,\n",
       "       2001., 2000., 1999., 1998., 1997., 1996., 1995., 1994., 1993.,\n",
       "       1992., 1991., 1990., 1989., 1969., 1988., 1987., 1986., 1985.,\n",
       "       1984., 1983., 1982., 1981., 1980., 1979., 1978., 1977., 1976.,\n",
       "       1975., 1974., 1973., 1972., 1971., 1970., 1968., 1967., 1966.,\n",
       "       1965., 1964., 1963., 1962., 1961., 1960., 1959., 1958., 1957.,\n",
       "       1956., 1955., 1954., 1953., 1952., 1951., 1950., 1949., 1948.,\n",
       "       1947., 1946., 1945., 1944., 1943., 1942., 1941., 1940., 1939.,\n",
       "       1938., 1937., 1936., 1935., 1934., 1933., 1932., 1931., 1930.,\n",
       "       1929., 1928., 1927., 1926., 1925., 1924., 1922., 1920., 1919.,\n",
       "       1916., 1912., 1909., 1906., 1905., 1901., 1899., 1898., 1894.,\n",
       "       1892., 1881., 1880., 1879., 1878., 1868., 1863., 1862., 1852.])"
      ]
     },
     "execution_count": 3752,
     "metadata": {},
     "output_type": "execute_result"
    }
   ],
   "source": [
    "# Vemos a ver si se ha eliminado.\n",
    "\n",
    "data_sharks.year.unique()"
   ]
  },
  {
   "cell_type": "code",
   "execution_count": 3753,
   "id": "f68af892",
   "metadata": {},
   "outputs": [],
   "source": [
    "#Eliminamos el elemento nulo que vemos que sale.\n",
    "\n",
    "index_year = data_sharks[data_sharks['year'].isna()].index\n",
    "data_sharks.drop(index= index_year, inplace = True)"
   ]
  },
  {
   "cell_type": "code",
   "execution_count": 3754,
   "id": "2dd58116",
   "metadata": {},
   "outputs": [
    {
     "data": {
      "text/plain": [
       "array([2018., 2017., 2016., 2015., 2014., 2013., 2012., 2011., 2010.,\n",
       "       2009., 2008., 2007., 2006., 2005., 2004., 2003., 2002., 2001.,\n",
       "       2000., 1999., 1998., 1997., 1996., 1995., 1994., 1993., 1992.,\n",
       "       1991., 1990., 1989., 1969., 1988., 1987., 1986., 1985., 1984.,\n",
       "       1983., 1982., 1981., 1980., 1979., 1978., 1977., 1976., 1975.,\n",
       "       1974., 1973., 1972., 1971., 1970., 1968., 1967., 1966., 1965.,\n",
       "       1964., 1963., 1962., 1961., 1960., 1959., 1958., 1957., 1956.,\n",
       "       1955., 1954., 1953., 1952., 1951., 1950., 1949., 1948., 1947.,\n",
       "       1946., 1945., 1944., 1943., 1942., 1941., 1940., 1939., 1938.,\n",
       "       1937., 1936., 1935., 1934., 1933., 1932., 1931., 1930., 1929.,\n",
       "       1928., 1927., 1926., 1925., 1924., 1922., 1920., 1919., 1916.,\n",
       "       1912., 1909., 1906., 1905., 1901., 1899., 1898., 1894., 1892.,\n",
       "       1881., 1880., 1879., 1878., 1868., 1863., 1862., 1852.])"
      ]
     },
     "execution_count": 3754,
     "metadata": {},
     "output_type": "execute_result"
    }
   ],
   "source": [
    "# Vemos a ver si se ha eliminado.\n",
    "\n",
    "data_sharks.year.unique()"
   ]
  },
  {
   "cell_type": "code",
   "execution_count": 3755,
   "id": "a854f8d6",
   "metadata": {},
   "outputs": [],
   "source": [
    "# Cambiamos los valores de year de float a interger.\n",
    "\n",
    "data_sharks['year'] = data_sharks['year'].astype('int')"
   ]
  },
  {
   "cell_type": "code",
   "execution_count": 3756,
   "id": "11e8e67e",
   "metadata": {},
   "outputs": [
    {
     "data": {
      "text/plain": [
       "array([2018, 2017, 2016, 2015, 2014, 2013, 2012, 2011, 2010, 2009, 2008,\n",
       "       2007, 2006, 2005, 2004, 2003, 2002, 2001, 2000, 1999, 1998, 1997,\n",
       "       1996, 1995, 1994, 1993, 1992, 1991, 1990, 1989, 1969, 1988, 1987,\n",
       "       1986, 1985, 1984, 1983, 1982, 1981, 1980, 1979, 1978, 1977, 1976,\n",
       "       1975, 1974, 1973, 1972, 1971, 1970, 1968, 1967, 1966, 1965, 1964,\n",
       "       1963, 1962, 1961, 1960, 1959, 1958, 1957, 1956, 1955, 1954, 1953,\n",
       "       1952, 1951, 1950, 1949, 1948, 1947, 1946, 1945, 1944, 1943, 1942,\n",
       "       1941, 1940, 1939, 1938, 1937, 1936, 1935, 1934, 1933, 1932, 1931,\n",
       "       1930, 1929, 1928, 1927, 1926, 1925, 1924, 1922, 1920, 1919, 1916,\n",
       "       1912, 1909, 1906, 1905, 1901, 1899, 1898, 1894, 1892, 1881, 1880,\n",
       "       1879, 1878, 1868, 1863, 1862, 1852])"
      ]
     },
     "execution_count": 3756,
     "metadata": {},
     "output_type": "execute_result"
    }
   ],
   "source": [
    "# Vemos que ya no sale el . del final.\n",
    "\n",
    "data_sharks.year.unique()"
   ]
  },
  {
   "cell_type": "code",
   "execution_count": 3757,
   "id": "6e499f07",
   "metadata": {},
   "outputs": [
    {
     "data": {
      "text/plain": [
       "(2156, 24)"
      ]
     },
     "execution_count": 3757,
     "metadata": {},
     "output_type": "execute_result"
    }
   ],
   "source": [
    "# Recuento de filas y columnas.\n",
    "\n",
    "data_sharks.shape"
   ]
  },
  {
   "cell_type": "markdown",
   "id": "bd6d58fc",
   "metadata": {},
   "source": [
    "##### LIMPIEZA DE LOS ELEMENTOS DE LA COLUMNA FATAL_Y_N"
   ]
  },
  {
   "cell_type": "code",
   "execution_count": 3758,
   "id": "c8b8a484",
   "metadata": {},
   "outputs": [
    {
     "data": {
      "text/plain": [
       "array(['N', 'Y', nan, 'M', '2017', 'UNKNOWN', ' N'], dtype=object)"
      ]
     },
     "execution_count": 3758,
     "metadata": {},
     "output_type": "execute_result"
    }
   ],
   "source": [
    "# Miramos los elemento únicos de fatal_y_n.\n",
    "\n",
    "data_sharks.fatal_y_n.unique()"
   ]
  },
  {
   "cell_type": "code",
   "execution_count": 3759,
   "id": "0e84ba16",
   "metadata": {},
   "outputs": [],
   "source": [
    "# Eliminamos elementos nulos y otro valores.\n",
    "\n",
    "index_fatal_y_n = data_sharks[data_sharks['fatal_y_n'].isna()].index\n",
    "data_sharks.drop(index= index_fatal_y_n, inplace = True)\n",
    "\n",
    "index_fatal_y_n = data_sharks[data_sharks['fatal_y_n'] == 'UNKNOWN'].index \n",
    "data_sharks.drop(index = index_fatal_y_n, inplace = True)\n",
    "\n",
    "index_fatal_y_n = data_sharks[data_sharks['fatal_y_n'] == '2017'].index \n",
    "data_sharks.drop(index = index_fatal_y_n, inplace = True)\n",
    "\n",
    "index_fatal_y_n = data_sharks[data_sharks['fatal_y_n'] == 'M'].index \n",
    "data_sharks.drop(index = index_fatal_y_n, inplace = True)"
   ]
  },
  {
   "cell_type": "code",
   "execution_count": 3760,
   "id": "55f70fe0",
   "metadata": {},
   "outputs": [],
   "source": [
    "# Limpiamos el espacio del elemento N para que se sume a los demas N.\n",
    "\n",
    "data_sharks.loc[data_sharks['fatal_y_n'].str.contains(' N', case = False), 'fatal_y_n'] = 'N'"
   ]
  },
  {
   "cell_type": "code",
   "execution_count": 3761,
   "id": "74668245",
   "metadata": {},
   "outputs": [
    {
     "data": {
      "text/plain": [
       "array(['N', 'Y'], dtype=object)"
      ]
     },
     "execution_count": 3761,
     "metadata": {},
     "output_type": "execute_result"
    }
   ],
   "source": [
    "# Miramos los elemento únicos de fatal_y_n.\n",
    "\n",
    "data_sharks.fatal_y_n.unique()"
   ]
  },
  {
   "cell_type": "code",
   "execution_count": 3762,
   "id": "5a88ef49",
   "metadata": {},
   "outputs": [
    {
     "data": {
      "text/plain": [
       "(1939, 24)"
      ]
     },
     "execution_count": 3762,
     "metadata": {},
     "output_type": "execute_result"
    }
   ],
   "source": [
    "# Recuento de filas y columnas.\n",
    "\n",
    "data_sharks.shape"
   ]
  },
  {
   "cell_type": "markdown",
   "id": "59dad438",
   "metadata": {},
   "source": [
    "##### LIMPIEZA DE LOS ELEMENTOS DE LA COLUMNA AGE"
   ]
  },
  {
   "cell_type": "code",
   "execution_count": 3763,
   "id": "ce462df4",
   "metadata": {},
   "outputs": [
    {
     "data": {
      "text/plain": [
       "array(['57', '18', '52', '15', '32', '21', '34', '30', '60', '33', '29',\n",
       "       '54', '56', '12', '19', '25', '10', '69', '38', '55', '35', '46',\n",
       "       '45', '14', '40s', '28', '20', '24', '26', '49', '22', '7', '31',\n",
       "       '40', '13', '37', '50', '48', '17', '58', '65', '73', '36', '60s',\n",
       "       '51', '43', '61', '59', '42', '6', '23', '39', '9', '41', '11',\n",
       "       '71', '44', '27', '62', '68', '16', '47', '63', '70', '18 months',\n",
       "       '53', '20s', '30s', 'Teen', '66', '74', '3', '64', '28 & 26', '8',\n",
       "       'teen', '18 or 20', '46 & 34', '77', '84', '\\xa0 ', ' ',\n",
       "       '30 or 36', '6½', '21 & ?', '5', ' 30', ' 28', '20?', \"60's\",\n",
       "       '>50', 'adult', '9 months', '25 to 35', '23 & 26', '33 & 37',\n",
       "       '30 & 32', '17 & 35', '13 or 18', ' 43', '\"young\"', '7 or 8',\n",
       "       'Both 11', '9 or 10'], dtype=object)"
      ]
     },
     "execution_count": 3763,
     "metadata": {},
     "output_type": "execute_result"
    }
   ],
   "source": [
    "# Miramos los elementos únicos de la columna age.\n",
    "data_sharks.age.unique()"
   ]
  },
  {
   "cell_type": "code",
   "execution_count": 3764,
   "id": "be4c2979",
   "metadata": {},
   "outputs": [],
   "source": [
    "# Eliminamos los valores que no están claros para que el filtrado sea eficaz.\n",
    "\n",
    "index_age = data_sharks[data_sharks['age'] == '46 & 34'].index \n",
    "data_sharks.drop(index = index_age, inplace = True)\n",
    "\n",
    "index_age = data_sharks[data_sharks['age'] == '\\xa0 '].index \n",
    "data_sharks.drop(index = index_age, inplace = True)\n",
    "\n",
    "index_age = data_sharks[data_sharks['age'] == ' '].index \n",
    "data_sharks.drop(index = index_age, inplace = True)\n",
    "\n",
    "index_age = data_sharks[data_sharks['age'] == 'adult'].index \n",
    "data_sharks.drop(index = index_age, inplace = True)\n",
    "\n",
    "index_age = data_sharks[data_sharks['age'] == '9 months'].index \n",
    "data_sharks.drop(index = index_age, inplace = True)\n",
    "\n",
    "index_age = data_sharks[data_sharks['age'] == '33 & 37'].index \n",
    "data_sharks.drop(index = index_age, inplace = True)\n",
    "\n",
    "index_age = data_sharks[data_sharks['age'] == '17 & 35'].index \n",
    "data_sharks.drop(index = index_age, inplace = True)\n",
    "\n",
    "index_age = data_sharks[data_sharks['age'] == '\"young\"'].index \n",
    "data_sharks.drop(index = index_age, inplace = True)\n",
    "\n",
    "index_age = data_sharks[data_sharks['age'] == 'Both 11'].index \n",
    "data_sharks.drop(index = index_age, inplace = True)\n",
    "\n",
    "index_age = data_sharks[data_sharks['age'] == '40s'].index \n",
    "data_sharks.drop(index = index_age, inplace = True)\n",
    "\n",
    "index_age = data_sharks[data_sharks['age'] == '30s'].index \n",
    "data_sharks.drop(index = index_age, inplace = True)\n",
    "\n",
    "index_age = data_sharks[data_sharks['age'] == '60s'].index \n",
    "data_sharks.drop(index = index_age, inplace = True)\n",
    "\n",
    "index_age = data_sharks[data_sharks['age'] == '18 months'].index \n",
    "data_sharks.drop(index = index_age, inplace = True)\n",
    "\n",
    "index_age = data_sharks[data_sharks['age'] == '20s'].index \n",
    "data_sharks.drop(index = index_age, inplace = True)\n",
    "\n",
    "index_age = data_sharks[data_sharks['age'] == 'Teen'].index \n",
    "data_sharks.drop(index = index_age, inplace = True)\n",
    "\n",
    "index_age = data_sharks[data_sharks['age'] == 'teen'].index \n",
    "data_sharks.drop(index = index_age, inplace = True)\n",
    "\n",
    "index_age = data_sharks[data_sharks['age'] == '18 or 20'].index \n",
    "data_sharks.drop(index = index_age, inplace = True)\n",
    "\n",
    "index_age = data_sharks[data_sharks['age'] == '28 & 26'].index \n",
    "data_sharks.drop(index = index_age, inplace = True)\n",
    "\n",
    "index_age = data_sharks[data_sharks['age'] == '30 or 36'].index \n",
    "data_sharks.drop(index = index_age, inplace = True)\n",
    "\n",
    "index_age = data_sharks[data_sharks['age'] == '6½'].index \n",
    "data_sharks.drop(index = index_age, inplace = True)\n",
    "\n",
    "index_age = data_sharks[data_sharks['age'] == '>50'].index \n",
    "data_sharks.drop(index = index_age, inplace = True)\n",
    "\n",
    "index_age = data_sharks[data_sharks['age'] == '20?'].index \n",
    "data_sharks.drop(index = index_age, inplace = True)\n",
    "\n",
    "index_age = data_sharks[data_sharks['age'] == \"60's\"].index \n",
    "data_sharks.drop(index = index_age, inplace = True)\n",
    "\n",
    "index_age = data_sharks[data_sharks['age'] == '21 & ?'].index \n",
    "data_sharks.drop(index = index_age, inplace = True)\n",
    "\n",
    "index_age = data_sharks[data_sharks['age'] == '25 to 35'].index \n",
    "data_sharks.drop(index = index_age, inplace = True)\n",
    "\n",
    "index_age = data_sharks[data_sharks['age'] == '30 & 32'].index \n",
    "data_sharks.drop(index = index_age, inplace = True)\n",
    "\n",
    "index_age = data_sharks[data_sharks['age'] == '23 & 26'].index \n",
    "data_sharks.drop(index = index_age, inplace = True)\n",
    "\n",
    "index_age = data_sharks[data_sharks['age'] == '13 or 18'].index \n",
    "data_sharks.drop(index = index_age, inplace = True)\n",
    "\n",
    "index_age = data_sharks[data_sharks['age'] == '7 or 8'].index \n",
    "data_sharks.drop(index = index_age, inplace = True)\n",
    "\n",
    "index_age = data_sharks[data_sharks['age'] == '9 or 10'].index \n",
    "data_sharks.drop(index = index_age, inplace = True)\n",
    "\n",
    "index_age = data_sharks[data_sharks['age'] == '32 & 30'].index \n",
    "data_sharks.drop(index = index_age, inplace = True)\n",
    "\n",
    "index_age = data_sharks[data_sharks['age'] == '23 & 20'].index \n",
    "data_sharks.drop(index = index_age, inplace = True)\n",
    "\n",
    "index_age = data_sharks[data_sharks['age'] == '8 or 10'].index \n",
    "data_sharks.drop(index = index_age, inplace = True)\n",
    "\n",
    "index_age = data_sharks[data_sharks['age'] == 'mid-20s'].index \n",
    "data_sharks.drop(index = index_age, inplace = True)\n",
    "\n",
    "index_age = data_sharks[data_sharks['age'] == '16 to 18'].index \n",
    "data_sharks.drop(index = index_age, inplace = True)\n",
    "\n",
    "index_age = data_sharks[data_sharks['age'] == '? & 19'].index \n",
    "data_sharks.drop(index = index_age, inplace = True)\n",
    "\n",
    "index_age = data_sharks[data_sharks['age'] == '34 & 19'].index \n",
    "data_sharks.drop(index = index_age, inplace = True)\n",
    "\n",
    "index_age = data_sharks[data_sharks['age'] == 'Ca. 33'].index \n",
    "data_sharks.drop(index = index_age, inplace = True)\n",
    "\n",
    "index_age = data_sharks[data_sharks['age'] == '37, 67, 35, 27,  ? & 27'].index \n",
    "data_sharks.drop(index = index_age, inplace = True)\n",
    "\n",
    "index_age = data_sharks[data_sharks['age'] == '21, 34,24 & 35'].index \n",
    "data_sharks.drop(index = index_age, inplace = True)"
   ]
  },
  {
   "cell_type": "code",
   "execution_count": 3765,
   "id": "4726eb8f",
   "metadata": {},
   "outputs": [
    {
     "data": {
      "text/plain": [
       "array(['57', '18', '52', '15', '32', '21', '34', '30', '60', '33', '29',\n",
       "       '54', '56', '12', '19', '25', '10', '69', '38', '55', '35', '46',\n",
       "       '45', '14', '28', '20', '24', '26', '49', '22', '7', '31', '40',\n",
       "       '13', '37', '50', '48', '17', '58', '65', '73', '36', '51', '43',\n",
       "       '61', '59', '42', '6', '23', '39', '9', '41', '11', '71', '44',\n",
       "       '27', '62', '68', '16', '47', '63', '70', '53', '66', '74', '3',\n",
       "       '64', '8', '77', '84', '5', ' 30', ' 28', ' 43'], dtype=object)"
      ]
     },
     "execution_count": 3765,
     "metadata": {},
     "output_type": "execute_result"
    }
   ],
   "source": [
    "# Miramos los elementos únicos de la columna age.\n",
    "\n",
    "data_sharks.age.unique()"
   ]
  },
  {
   "cell_type": "code",
   "execution_count": 3766,
   "id": "0328bfa3",
   "metadata": {},
   "outputs": [],
   "source": [
    "# Quitamos los espacios de los elementos que vemos que si son claros.\n",
    "\n",
    "data_sharks.loc[data_sharks['age'].str.contains(' 43', case = False), 'age'] = '43'\n",
    "data_sharks.loc[data_sharks['age'].str.contains(' 28', case = False), 'age'] = '28'\n",
    "data_sharks.loc[data_sharks['age'].str.contains(' 30', case = False), 'age'] = '30'"
   ]
  },
  {
   "cell_type": "code",
   "execution_count": 3767,
   "id": "e2df3070",
   "metadata": {},
   "outputs": [
    {
     "data": {
      "text/plain": [
       "array(['57', '18', '52', '15', '32', '21', '34', '30', '60', '33', '29',\n",
       "       '54', '56', '12', '19', '25', '10', '69', '38', '55', '35', '46',\n",
       "       '45', '14', '28', '20', '24', '26', '49', '22', '7', '31', '40',\n",
       "       '13', '37', '50', '48', '17', '58', '65', '73', '36', '51', '43',\n",
       "       '61', '59', '42', '6', '23', '39', '9', '41', '11', '71', '44',\n",
       "       '27', '62', '68', '16', '47', '63', '70', '53', '66', '74', '3',\n",
       "       '64', '8', '77', '84', '5'], dtype=object)"
      ]
     },
     "execution_count": 3767,
     "metadata": {},
     "output_type": "execute_result"
    }
   ],
   "source": [
    "# Miramos los elementos únicos de la columna age.\n",
    "\n",
    "data_sharks.age.unique()"
   ]
  },
  {
   "cell_type": "markdown",
   "id": "75ce8ad3",
   "metadata": {},
   "source": [
    "##### RECUENTO TOTAL DE FILAS Y COLUMNAS QUE NOS QUEDAN TRAS LA LIMPIEZA"
   ]
  },
  {
   "cell_type": "code",
   "execution_count": 3768,
   "id": "f8480858",
   "metadata": {},
   "outputs": [
    {
     "data": {
      "text/plain": [
       "(1900, 24)"
      ]
     },
     "execution_count": 3768,
     "metadata": {},
     "output_type": "execute_result"
    }
   ],
   "source": [
    "#Recuento total de filas y columnas.\n",
    "\n",
    "data_sharks.shape\n"
   ]
  },
  {
   "cell_type": "code",
   "execution_count": 3769,
   "id": "0cd3c1ba",
   "metadata": {},
   "outputs": [
    {
     "data": {
      "image/png": "[encoded data removed]",
      "text/plain": [
       "<Figure size 720x432 with 1 Axes>"
      ]
     },
     "metadata": {
      "needs_background": "light"
     },
     "output_type": "display_data"
    }
   ],
   "source": [
    "# Vemos en la grafica los valores nulos que hemos quitado.\n",
    "\n",
    "plt.figure(figsize=(10,6))\n",
    "\n",
    "sns.heatmap(data_sharks.isna(),\n",
    "           yticklabels=False,\n",
    "           cmap='viridis',\n",
    "           cbar = False)\n",
    "\n",
    "plt.show()"
   ]
  },
  {
   "cell_type": "markdown",
   "id": "d0f13d50",
   "metadata": {},
   "source": [
    "## INSIGHTS:"
   ]
  },
  {
   "cell_type": "markdown",
   "id": "bc2c92e5",
   "metadata": {},
   "source": [
    "##### A continuación mostramos algunas gráficas con los datos que hemos obtenido tras la limpieza de este dataset. El resto de insights y su explicación está en el powerpoint."
   ]
  },
  {
   "cell_type": "code",
   "execution_count": 3778,
   "id": "7593b683",
   "metadata": {},
   "outputs": [
    {
     "data": {
      "image/png": "[encoded data removed]",
      "text/plain": [
       "<Figure size 1080x576 with 1 Axes>"
      ]
     },
     "metadata": {
      "needs_background": "light"
     },
     "output_type": "display_data"
    }
   ],
   "source": [
    "plt.figure(figsize=(15, 8))\n",
    "\n",
    "data_sharks.sex.value_counts().plot.bar();\n",
    "plt.xlabel(\"Sexo\", labelpad=14)\n",
    "plt.ylabel(\"Número de ataques de tiburón\", labelpad=14)\n",
    "plt.title(\"Comparación ataques tiburón por sexo\");"
   ]
  },
  {
   "cell_type": "code",
   "execution_count": 3789,
   "id": "3e796ea0",
   "metadata": {},
   "outputs": [
    {
     "data": {
      "text/plain": [
       "M    1653\n",
       "F     247\n",
       "Name: sex, dtype: int64"
      ]
     },
     "execution_count": 3789,
     "metadata": {},
     "output_type": "execute_result"
    }
   ],
   "source": [
    "data_sharks.sex.value_counts()"
   ]
  },
  {
   "cell_type": "code",
   "execution_count": 3780,
   "id": "12269c86",
   "metadata": {},
   "outputs": [
    {
     "data": {
      "image/png": "[encoded data removed]",
      "text/plain": [
       "<Figure size 1080x576 with 1 Axes>"
      ]
     },
     "metadata": {
      "needs_background": "light"
     },
     "output_type": "display_data"
    }
   ],
   "source": [
    "plt.figure(figsize=(15, 8))\n",
    "\n",
    "data_sharks.age.value_counts().plot.bar();\n",
    "plt.xlabel(\"Edad\", labelpad=14)\n",
    "plt.ylabel(\"Número de ataques de tiburón\", labelpad=14)\n",
    "plt.title(\"Comparación ataques tiburón por edad\");"
   ]
  },
  {
   "cell_type": "code",
   "execution_count": 3802,
   "id": "25f9a2af",
   "metadata": {},
   "outputs": [
    {
     "name": "stdout",
     "output_type": "stream",
     "text": [
      "82 78 73 72 72 71 70 69 69 63 53 51 50 49 48 47 46 45 43 40 39 34 31 30 29 27 26 26 24 23 23 22 22 21 21 21 20 20 18 18 17 16 15 15 13 13 10 10 10 9 9 9 8 7 7 6 5 5 5 5 4 3 2 2 2 2 1 1 1 1 1\n"
     ]
    }
   ],
   "source": [
    "dataage = data_sharks.age.value_counts()\n",
    "print(*dataage)"
   ]
  },
  {
   "cell_type": "code",
   "execution_count": 3782,
   "id": "b1f339a7",
   "metadata": {},
   "outputs": [
    {
     "data": {
      "image/png": "[encoded data removed]",
      "text/plain": [
       "<Figure size 1080x576 with 1 Axes>"
      ]
     },
     "metadata": {
      "needs_background": "light"
     },
     "output_type": "display_data"
    }
   ],
   "source": [
    "plt.figure(figsize=(15, 8))\n",
    "\n",
    "data_sharks.country.value_counts().plot.bar();\n",
    "plt.xlabel(\"Country\", labelpad=14)\n",
    "plt.ylabel(\"Número de ataques de tiburón\", labelpad=14)\n",
    "plt.title(\"Comparación ataques tiburón por país\");"
   ]
  },
  {
   "cell_type": "code",
   "execution_count": 3791,
   "id": "8579f1ce",
   "metadata": {},
   "outputs": [
    {
     "data": {
      "text/plain": [
       "USA                  833\n",
       "AUSTRALIA            437\n",
       "SOUTH AFRICA         246\n",
       "BAHAMAS               47\n",
       "NEW ZEALAND           33\n",
       "                    ... \n",
       "RUSSIA                 1\n",
       "FRANCE                 1\n",
       "MALAYSIA               1\n",
       "MALDIVES               1\n",
       "TRINIDAD & TOBAGO      1\n",
       "Name: country, Length: 72, dtype: int64"
      ]
     },
     "execution_count": 3791,
     "metadata": {},
     "output_type": "execute_result"
    }
   ],
   "source": [
    "data_sharks.country.value_counts()"
   ]
  },
  {
   "cell_type": "code",
   "execution_count": 3784,
   "id": "e4a7dfae",
   "metadata": {},
   "outputs": [
    {
     "data": {
      "image/png": "[encoded data removed]",
      "text/plain": [
       "<Figure size 1080x576 with 1 Axes>"
      ]
     },
     "metadata": {
      "needs_background": "light"
     },
     "output_type": "display_data"
    }
   ],
   "source": [
    "plt.figure(figsize=(15, 8))\n",
    "\n",
    "data_sharks.year.value_counts().plot.bar();\n",
    "plt.xlabel(\"Años\", labelpad=14)\n",
    "plt.ylabel(\"Número de ataques de tiburón\", labelpad=14)\n",
    "plt.title(\"Comparación ataques tiburón por año\");"
   ]
  },
  {
   "cell_type": "code",
   "execution_count": 3792,
   "id": "d4fdb65e",
   "metadata": {},
   "outputs": [
    {
     "data": {
      "text/plain": [
       "2015    82\n",
       "2012    61\n",
       "2007    57\n",
       "2002    54\n",
       "2013    53\n",
       "        ..\n",
       "1905     1\n",
       "1906     1\n",
       "1912     1\n",
       "1924     1\n",
       "1862     1\n",
       "Name: year, Length: 111, dtype: int64"
      ]
     },
     "execution_count": 3792,
     "metadata": {},
     "output_type": "execute_result"
    }
   ],
   "source": [
    "data_sharks.year.value_counts()"
   ]
  },
  {
   "cell_type": "code",
   "execution_count": 3786,
   "id": "25920b71",
   "metadata": {},
   "outputs": [
    {
     "data": {
      "image/png": "[encoded data removed]",
      "text/plain": [
       "<Figure size 1080x576 with 1 Axes>"
      ]
     },
     "metadata": {
      "needs_background": "light"
     },
     "output_type": "display_data"
    }
   ],
   "source": [
    "plt.figure(figsize=(15, 8))\n",
    "\n",
    "data_sharks.fatal_y_n.value_counts().plot.bar();\n",
    "plt.xlabel(\"Muertes\", labelpad=14)\n",
    "plt.ylabel(\"Número de ataques de tiburón\", labelpad=14)\n",
    "plt.title(\"Letalidad de ataques de tiburón\");"
   ]
  },
  {
   "cell_type": "code",
   "execution_count": 3795,
   "id": "a48a3bc4",
   "metadata": {},
   "outputs": [
    {
     "data": {
      "text/plain": [
       "N    1608\n",
       "Y     292\n",
       "Name: fatal_y_n, dtype: int64"
      ]
     },
     "execution_count": 3795,
     "metadata": {},
     "output_type": "execute_result"
    }
   ],
   "source": [
    "data_sharks.fatal_y_n.value_counts()"
   ]
  },
  {
   "cell_type": "code",
   "execution_count": 3796,
   "id": "8fd8bedd",
   "metadata": {},
   "outputs": [
    {
     "data": {
      "image/png": "[encoded data removed]",
      "text/plain": [
       "<Figure size 1080x576 with 1 Axes>"
      ]
     },
     "metadata": {
      "needs_background": "light"
     },
     "output_type": "display_data"
    }
   ],
   "source": [
    "plt.figure(figsize=(15, 8))\n",
    "\n",
    "data_sharks.species.value_counts().plot.bar();\n",
    "plt.xlabel(\"Tipo de tiburón\", labelpad=14)\n",
    "plt.ylabel(\"Número de ataques de tiburón\", labelpad=14)\n",
    "plt.title(\"Especies de tiburón que más atacan\");"
   ]
  },
  {
   "cell_type": "code",
   "execution_count": 3797,
   "id": "44e0eea9",
   "metadata": {},
   "outputs": [
    {
     "data": {
      "text/plain": [
       "unknown_shark           683\n",
       "white_shark             431\n",
       "tiger_shark             185\n",
       "bull_shark              128\n",
       "blacktip_shark           84\n",
       "nurse_shark              69\n",
       "bronze_whaler_shark      45\n",
       "raggedtooth_shark        31\n",
       "mako_shark               26\n",
       "hammerhead_shark         26\n",
       "wobbegong_shark          25\n",
       "zambesi_shark            24\n",
       "blue_shark               23\n",
       "sand_shark               20\n",
       "lemon_shark              19\n",
       "grey_reef_shark          16\n",
       "spinner_shark            14\n",
       "caribbean_reef_shark     13\n",
       "dusky_shark               9\n",
       "galapagos_shark           6\n",
       "porbeagle_shark           6\n",
       "copper_shark              5\n",
       "angel_shark               4\n",
       "port_jackson_shark        2\n",
       "dogfish_shark             2\n",
       "cookie_cutter_shark       2\n",
       "thresher_shark            1\n",
       "spurdog_shark             1\n",
       "Name: species, dtype: int64"
      ]
     },
     "execution_count": 3797,
     "metadata": {},
     "output_type": "execute_result"
    }
   ],
   "source": [
    "data_sharks.species.value_counts()"
   ]
  },
  {
   "cell_type": "code",
   "execution_count": 3798,
   "id": "ba911e94",
   "metadata": {},
   "outputs": [],
   "source": [
    "data_sharks.to_csv('sharks_clean.csv', sep=',', index=False)"
   ]
  },
  {
   "cell_type": "code",
   "execution_count": null,
   "id": "508b7037",
   "metadata": {},
   "outputs": [],
   "source": []
  }
 ],
 "metadata": {
  "kernelspec": {
   "display_name": "Python 3 (ipykernel)",
   "language": "python",
   "name": "python3"
  },
  "language_info": {
   "codemirror_mode": {
    "name": "ipython",
    "version": 3
   },
   "file_extension": ".py",
   "mimetype": "text/x-python",
   "name": "python",
   "nbconvert_exporter": "python",
   "pygments_lexer": "ipython3",
   "version": "3.9.7"
  }
 },
 "nbformat": 4,
 "nbformat_minor": 5
}
